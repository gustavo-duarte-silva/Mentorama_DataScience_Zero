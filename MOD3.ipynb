{
 "cells": [
  {
   "cell_type": "markdown",
   "id": "d6aba15a",
   "metadata": {},
   "source": [
    "**EXE 1**\n"
   ]
  },
  {
   "cell_type": "code",
   "execution_count": 65,
   "id": "f7b837a6",
   "metadata": {},
   "outputs": [],
   "source": [
    "def funcao_pares(lista):\n",
    "    if len(lista) < 5:\n",
    "        pares = list()\n",
    "        for i in lista:\n",
    "            if i%2 == 0:\n",
    "                pares.append(i)\n",
    "            else:\n",
    "                continue\n",
    "        return print(\"Valores Pares:\",pares)\n",
    "    else:\n",
    "        print(\"VALOR DA LISTA É MAIOR QUE 5\")\n",
    "        "
   ]
  },
  {
   "cell_type": "code",
   "execution_count": 66,
   "id": "f8f42c2e",
   "metadata": {},
   "outputs": [
    {
     "name": "stdout",
     "output_type": "stream",
     "text": [
      "VALOR DA LISTA MAIOR QUE 5\n"
     ]
    }
   ],
   "source": [
    "funcao_pares([50,35,44,56,78,89])"
   ]
  },
  {
   "cell_type": "code",
   "execution_count": 67,
   "id": "36f5257d",
   "metadata": {},
   "outputs": [
    {
     "name": "stdout",
     "output_type": "stream",
     "text": [
      "Valores Pares: [50, 44]\n"
     ]
    }
   ],
   "source": [
    "funcao_pares([50,35,44,89])"
   ]
  },
  {
   "cell_type": "markdown",
   "id": "4defd4ce",
   "metadata": {},
   "source": [
    "**EXE 3**"
   ]
  },
  {
   "cell_type": "code",
   "execution_count": 102,
   "id": "5204af09",
   "metadata": {},
   "outputs": [],
   "source": [
    "class Cliente:\n",
    "    def __init__(self,nome,saldo):\n",
    "        self.nome = nome\n",
    "        self.saldo = float(saldo)\n",
    "        \n",
    "    def depositar(self,arg):\n",
    "        self.arg = arg\n",
    "        self.saldo = self.arg + self.saldo\n",
    "        return print(\"SALDO:\",self.saldo)\n",
    "    \n",
    "    def sacar(self,arg):\n",
    "        self.arg = arg\n",
    "        if(self.saldo - self.arg >= 0):\n",
    "            self.saldo = self.saldo - self.arg\n",
    "            return print(\"SALDO:\",self.saldo)\n",
    "        else:\n",
    "            print(\"SAQUE INDISPONIVEL!\")     "
   ]
  },
  {
   "cell_type": "code",
   "execution_count": 103,
   "id": "558ae298",
   "metadata": {},
   "outputs": [],
   "source": [
    "cliente1 = Cliente(\"DJANGO\",0)"
   ]
  },
  {
   "cell_type": "code",
   "execution_count": 104,
   "id": "92d61ede",
   "metadata": {},
   "outputs": [
    {
     "name": "stdout",
     "output_type": "stream",
     "text": [
      "SALDO: 100.0\n"
     ]
    }
   ],
   "source": [
    "cliente1.depositar(100)"
   ]
  },
  {
   "cell_type": "code",
   "execution_count": 105,
   "id": "f62316a5",
   "metadata": {},
   "outputs": [
    {
     "name": "stdout",
     "output_type": "stream",
     "text": [
      "SALDO: 80.0\n"
     ]
    }
   ],
   "source": [
    "cliente1.sacar(20)"
   ]
  },
  {
   "cell_type": "code",
   "execution_count": 106,
   "id": "90f5feaf",
   "metadata": {},
   "outputs": [
    {
     "name": "stdout",
     "output_type": "stream",
     "text": [
      "SAQUE INDISPONIVEL!\n"
     ]
    }
   ],
   "source": [
    "cliente1.sacar(1255)"
   ]
  },
  {
   "cell_type": "code",
   "execution_count": 107,
   "id": "46473c74",
   "metadata": {},
   "outputs": [
    {
     "data": {
      "text/plain": [
       "80.0"
      ]
     },
     "execution_count": 107,
     "metadata": {},
     "output_type": "execute_result"
    }
   ],
   "source": [
    "cliente1.saldo"
   ]
  },
  {
   "cell_type": "markdown",
   "id": "b7a8dc8f",
   "metadata": {},
   "source": [
    "**EXE 2**"
   ]
  },
  {
   "cell_type": "code",
   "execution_count": 73,
   "id": "96292de0",
   "metadata": {},
   "outputs": [],
   "source": [
    "import random as rd\n",
    "\n",
    "\n",
    "def aleatorio():\n",
    "    numbers = []\n",
    "    try:\n",
    "        qtde = int(input(\"QTDE DE SORTEIOS? \"))\n",
    "        rint = int(input(\"VALOR MAXIMO PARA RANDOM? \"))\n",
    "    \n",
    "        for i in range(qtde):\n",
    "            valor = rd.randrange(rint)\n",
    "            numbers.append(valor)\n",
    "        print(\"\\n\")\n",
    "        print(\"Quantidade de Sorteios:\",qtde)\n",
    "        print(\"Numeros Aleatorios:\",numbers)\n",
    "    except Exception:\n",
    "        print(\"Digite apenas numeros!\")\n",
    "        print(\"Tente Novamente....\")\n",
    "        aleatorio()"
   ]
  },
  {
   "cell_type": "code",
   "execution_count": 74,
   "id": "49b35f51",
   "metadata": {},
   "outputs": [
    {
     "name": "stdout",
     "output_type": "stream",
     "text": [
      "QTDE DE SORTEIOS? 5\n",
      "VALOR MAXIMO PARA RANDOM? 600\n",
      "\n",
      "\n",
      "Quantidade de Sorteios: 5\n",
      "Numeros Aleatorios: [88, 493, 73, 300, 371]\n"
     ]
    }
   ],
   "source": [
    "aleatorio()"
   ]
  },
  {
   "cell_type": "code",
   "execution_count": null,
   "id": "5f29349a",
   "metadata": {},
   "outputs": [],
   "source": []
  }
 ],
 "metadata": {
  "kernelspec": {
   "display_name": "Python 3",
   "language": "python",
   "name": "python3"
  },
  "language_info": {
   "codemirror_mode": {
    "name": "ipython",
    "version": 3
   },
   "file_extension": ".py",
   "mimetype": "text/x-python",
   "name": "python",
   "nbconvert_exporter": "python",
   "pygments_lexer": "ipython3",
   "version": "3.8.8"
  }
 },
 "nbformat": 4,
 "nbformat_minor": 5
}
