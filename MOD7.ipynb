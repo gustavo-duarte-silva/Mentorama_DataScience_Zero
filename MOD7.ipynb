{
 "cells": [
  {
   "cell_type": "markdown",
   "metadata": {},
   "source": [
    "# Exercícios:\n",
    "\n",
    "<br>\n",
    "\n",
    "1 - Importe o arquivo \"dataframe_exercicio_modulo_7.csv\" em um dataframe - df - do Pandas.\n",
    "\n",
    "<br>\n",
    "\n",
    "2 - Quais as dimensões do dataframe?\n",
    "\n",
    "<br>\n",
    "\n",
    "3 - Qual o tipo das variáveis?\n",
    "\n",
    "<br>\n",
    "\n",
    "4 - Existem variáveis faltantes no dataset? Quais?\n",
    "\n",
    "<br>\n",
    "\n",
    "\n",
    "5 - Exiba todas as categorias das variáveis 'estado_civil', 'cor' e 'sexo'. Você consegue detectar algum problema?\n",
    "\n",
    "<br>\n",
    "\n",
    "6 - Faça um tratamento nas variáveis faltantes.\n",
    "\n",
    "<br>\n",
    "\n",
    "7 - Aplique uma transformação \"MinMax\" na variável  'tempo_educacao'e uma transformação \"StandardScaler\" na variável 'horas_por_semana'.\n",
    "\n",
    "<br>\n",
    "\n",
    "8 - Aplique ohe-hot-encoding nas variáveis 'estado_civil', 'cor' e 'sexo'.\n",
    "\n",
    "<br>\n",
    "\n",
    "9 - Detecte e elimine os outliers da variável 'idade'.\n",
    "\n",
    "<br>\n",
    "\n",
    "\n",
    "10 - Escreva uma função que receba o dataframe em sua forma original e retorne o dataframe modificado, após todas as transformações dos itens acima."
   ]
  },
  {
   "cell_type": "markdown",
   "metadata": {},
   "source": [
    "### *1 - Importar*"
   ]
  },
  {
   "cell_type": "code",
   "execution_count": 1,
   "metadata": {},
   "outputs": [],
   "source": [
    "import pandas as pd\n",
    "import numpy as np\n",
    "import matplotlib.pyplot as plt\n",
    "import seaborn as sns\n",
    "from sklearn.preprocessing import MinMaxScaler, StandardScaler\n",
    "from sklearn.preprocessing import OneHotEncoder"
   ]
  },
  {
   "cell_type": "code",
   "execution_count": 2,
   "metadata": {},
   "outputs": [
    {
     "data": {
      "text/html": [
       "<div>\n",
       "<style scoped>\n",
       "    .dataframe tbody tr th:only-of-type {\n",
       "        vertical-align: middle;\n",
       "    }\n",
       "\n",
       "    .dataframe tbody tr th {\n",
       "        vertical-align: top;\n",
       "    }\n",
       "\n",
       "    .dataframe thead th {\n",
       "        text-align: right;\n",
       "    }\n",
       "</style>\n",
       "<table border=\"1\" class=\"dataframe\">\n",
       "  <thead>\n",
       "    <tr style=\"text-align: right;\">\n",
       "      <th></th>\n",
       "      <th>idade</th>\n",
       "      <th>tempo_educacao</th>\n",
       "      <th>estado_civil</th>\n",
       "      <th>cor</th>\n",
       "      <th>sexo</th>\n",
       "      <th>horas_por_semana</th>\n",
       "      <th>salario_anual</th>\n",
       "      <th>nome</th>\n",
       "      <th>dívida</th>\n",
       "    </tr>\n",
       "  </thead>\n",
       "  <tbody>\n",
       "    <tr>\n",
       "      <th>0</th>\n",
       "      <td>39.0</td>\n",
       "      <td>13</td>\n",
       "      <td>Never-married</td>\n",
       "      <td>White</td>\n",
       "      <td>Male</td>\n",
       "      <td>40</td>\n",
       "      <td>&lt;=50K</td>\n",
       "      <td>NaN</td>\n",
       "      <td>NaN</td>\n",
       "    </tr>\n",
       "    <tr>\n",
       "      <th>1</th>\n",
       "      <td>50.0</td>\n",
       "      <td>13</td>\n",
       "      <td>Married-civ-spouse</td>\n",
       "      <td>White</td>\n",
       "      <td>Male</td>\n",
       "      <td>13</td>\n",
       "      <td>&lt;=50K</td>\n",
       "      <td>NaN</td>\n",
       "      <td>NaN</td>\n",
       "    </tr>\n",
       "    <tr>\n",
       "      <th>2</th>\n",
       "      <td>38.0</td>\n",
       "      <td>9</td>\n",
       "      <td>Divorced</td>\n",
       "      <td>White</td>\n",
       "      <td>Male</td>\n",
       "      <td>40</td>\n",
       "      <td>&lt;=50K</td>\n",
       "      <td>NaN</td>\n",
       "      <td>NaN</td>\n",
       "    </tr>\n",
       "    <tr>\n",
       "      <th>3</th>\n",
       "      <td>53.0</td>\n",
       "      <td>7</td>\n",
       "      <td>Married-civ-spouse</td>\n",
       "      <td>Black</td>\n",
       "      <td>Male</td>\n",
       "      <td>40</td>\n",
       "      <td>&lt;=50K</td>\n",
       "      <td>NaN</td>\n",
       "      <td>NaN</td>\n",
       "    </tr>\n",
       "    <tr>\n",
       "      <th>4</th>\n",
       "      <td>37.0</td>\n",
       "      <td>14</td>\n",
       "      <td>Married-civ-spouse</td>\n",
       "      <td>White</td>\n",
       "      <td>Female</td>\n",
       "      <td>40</td>\n",
       "      <td>&lt;=50K</td>\n",
       "      <td>NaN</td>\n",
       "      <td>NaN</td>\n",
       "    </tr>\n",
       "  </tbody>\n",
       "</table>\n",
       "</div>"
      ],
      "text/plain": [
       "   idade  tempo_educacao        estado_civil    cor    sexo  horas_por_semana  \\\n",
       "0   39.0              13       Never-married  White    Male                40   \n",
       "1   50.0              13  Married-civ-spouse  White    Male                13   \n",
       "2   38.0               9            Divorced  White    Male                40   \n",
       "3   53.0               7  Married-civ-spouse  Black    Male                40   \n",
       "4   37.0              14  Married-civ-spouse  White  Female                40   \n",
       "\n",
       "  salario_anual  nome  dívida  \n",
       "0         <=50K   NaN     NaN  \n",
       "1         <=50K   NaN     NaN  \n",
       "2         <=50K   NaN     NaN  \n",
       "3         <=50K   NaN     NaN  \n",
       "4         <=50K   NaN     NaN  "
      ]
     },
     "execution_count": 2,
     "metadata": {},
     "output_type": "execute_result"
    }
   ],
   "source": [
    "df = pd.read_csv(\"dataframe_exercicio_modulo_7.csv\")\n",
    "df.head()"
   ]
  },
  {
   "cell_type": "markdown",
   "metadata": {},
   "source": [
    "### *2 - Dimensões do dataframe*"
   ]
  },
  {
   "cell_type": "code",
   "execution_count": 3,
   "metadata": {},
   "outputs": [
    {
     "data": {
      "text/plain": [
       "(29170, 9)"
      ]
     },
     "execution_count": 3,
     "metadata": {},
     "output_type": "execute_result"
    }
   ],
   "source": [
    "df.shape"
   ]
  },
  {
   "cell_type": "markdown",
   "metadata": {},
   "source": [
    "### *3 - Tipos das Variaveis*"
   ]
  },
  {
   "cell_type": "code",
   "execution_count": 4,
   "metadata": {},
   "outputs": [
    {
     "data": {
      "text/plain": [
       "idade               float64\n",
       "tempo_educacao        int64\n",
       "estado_civil         object\n",
       "cor                  object\n",
       "sexo                 object\n",
       "horas_por_semana      int64\n",
       "salario_anual        object\n",
       "nome                float64\n",
       "dívida              float64\n",
       "dtype: object"
      ]
     },
     "execution_count": 4,
     "metadata": {},
     "output_type": "execute_result"
    }
   ],
   "source": [
    "df.dtypes"
   ]
  },
  {
   "cell_type": "markdown",
   "metadata": {},
   "source": [
    "### *4 - Dados Faltantes*"
   ]
  },
  {
   "cell_type": "code",
   "execution_count": 5,
   "metadata": {},
   "outputs": [
    {
     "data": {
      "text/plain": [
       "idade                  99\n",
       "tempo_educacao          0\n",
       "estado_civil            0\n",
       "cor                     0\n",
       "sexo                    0\n",
       "horas_por_semana        0\n",
       "salario_anual           0\n",
       "nome                29170\n",
       "dívida              29170\n",
       "dtype: int64"
      ]
     },
     "execution_count": 5,
     "metadata": {},
     "output_type": "execute_result"
    }
   ],
   "source": [
    "df.isnull().sum()"
   ]
  },
  {
   "cell_type": "code",
   "execution_count": 6,
   "metadata": {},
   "outputs": [],
   "source": [
    "faltantes = df.isnull().sum()>0"
   ]
  },
  {
   "cell_type": "code",
   "execution_count": 7,
   "metadata": {},
   "outputs": [
    {
     "name": "stdout",
     "output_type": "stream",
     "text": [
      "Colunas que possui dados faltantes: ['idade', 'nome', 'dívida']\n"
     ]
    }
   ],
   "source": [
    "print(\"Colunas que possui dados faltantes:\", faltantes.loc[faltantes == True].index.tolist())"
   ]
  },
  {
   "cell_type": "markdown",
   "metadata": {},
   "source": [
    "### *5 - Categorias*"
   ]
  },
  {
   "cell_type": "code",
   "execution_count": 8,
   "metadata": {},
   "outputs": [
    {
     "name": "stdout",
     "output_type": "stream",
     "text": [
      "Estado Civil:  ['Never-married' 'Married-civ-spouse' 'Divorced' 'Separated'\n",
      " 'Married-AF-spouse' 'Widowed' 'Married-spouse-absent']\n",
      "\n",
      "Cor:  ['White' 'Black' 'Other' 'Asian-Pac-Islander' 'Amer-Indian-Eskimo']\n",
      "\n",
      "sexo:  ['Male' 'Female' '?']\n"
     ]
    }
   ],
   "source": [
    "print(\"Estado Civil: \",df['estado_civil'].unique())\n",
    "print(\"\")\n",
    "print('Cor: ',df.cor.unique())\n",
    "print(\"\")\n",
    "print('sexo: ',df.sexo.unique())"
   ]
  },
  {
   "cell_type": "code",
   "execution_count": 9,
   "metadata": {},
   "outputs": [
    {
     "data": {
      "text/plain": [
       "Male      18181\n",
       "Female     9052\n",
       "?          1937\n",
       "Name: sexo, dtype: int64"
      ]
     },
     "execution_count": 9,
     "metadata": {},
     "output_type": "execute_result"
    }
   ],
   "source": [
    "df.sexo.value_counts()"
   ]
  },
  {
   "cell_type": "markdown",
   "metadata": {},
   "source": [
    "*Na Variavel sexo possui uma categoria \"?\" pode ser modificado atravez da função* **map** "
   ]
  },
  {
   "cell_type": "code",
   "execution_count": 10,
   "metadata": {},
   "outputs": [
    {
     "data": {
      "text/html": [
       "<div>\n",
       "<style scoped>\n",
       "    .dataframe tbody tr th:only-of-type {\n",
       "        vertical-align: middle;\n",
       "    }\n",
       "\n",
       "    .dataframe tbody tr th {\n",
       "        vertical-align: top;\n",
       "    }\n",
       "\n",
       "    .dataframe thead th {\n",
       "        text-align: right;\n",
       "    }\n",
       "</style>\n",
       "<table border=\"1\" class=\"dataframe\">\n",
       "  <thead>\n",
       "    <tr style=\"text-align: right;\">\n",
       "      <th></th>\n",
       "      <th>idade</th>\n",
       "      <th>tempo_educacao</th>\n",
       "      <th>estado_civil</th>\n",
       "      <th>cor</th>\n",
       "      <th>sexo</th>\n",
       "      <th>horas_por_semana</th>\n",
       "      <th>salario_anual</th>\n",
       "      <th>nome</th>\n",
       "      <th>dívida</th>\n",
       "    </tr>\n",
       "  </thead>\n",
       "  <tbody>\n",
       "    <tr>\n",
       "      <th>0</th>\n",
       "      <td>39.0</td>\n",
       "      <td>13</td>\n",
       "      <td>Never-married</td>\n",
       "      <td>White</td>\n",
       "      <td>Male</td>\n",
       "      <td>40</td>\n",
       "      <td>&lt;=50K</td>\n",
       "      <td>NaN</td>\n",
       "      <td>NaN</td>\n",
       "    </tr>\n",
       "    <tr>\n",
       "      <th>1</th>\n",
       "      <td>50.0</td>\n",
       "      <td>13</td>\n",
       "      <td>Married-civ-spouse</td>\n",
       "      <td>White</td>\n",
       "      <td>Male</td>\n",
       "      <td>13</td>\n",
       "      <td>&lt;=50K</td>\n",
       "      <td>NaN</td>\n",
       "      <td>NaN</td>\n",
       "    </tr>\n",
       "    <tr>\n",
       "      <th>2</th>\n",
       "      <td>38.0</td>\n",
       "      <td>9</td>\n",
       "      <td>Divorced</td>\n",
       "      <td>White</td>\n",
       "      <td>Male</td>\n",
       "      <td>40</td>\n",
       "      <td>&lt;=50K</td>\n",
       "      <td>NaN</td>\n",
       "      <td>NaN</td>\n",
       "    </tr>\n",
       "    <tr>\n",
       "      <th>3</th>\n",
       "      <td>53.0</td>\n",
       "      <td>7</td>\n",
       "      <td>Married-civ-spouse</td>\n",
       "      <td>Black</td>\n",
       "      <td>Male</td>\n",
       "      <td>40</td>\n",
       "      <td>&lt;=50K</td>\n",
       "      <td>NaN</td>\n",
       "      <td>NaN</td>\n",
       "    </tr>\n",
       "    <tr>\n",
       "      <th>4</th>\n",
       "      <td>37.0</td>\n",
       "      <td>14</td>\n",
       "      <td>Married-civ-spouse</td>\n",
       "      <td>White</td>\n",
       "      <td>Female</td>\n",
       "      <td>40</td>\n",
       "      <td>&lt;=50K</td>\n",
       "      <td>NaN</td>\n",
       "      <td>NaN</td>\n",
       "    </tr>\n",
       "    <tr>\n",
       "      <th>...</th>\n",
       "      <td>...</td>\n",
       "      <td>...</td>\n",
       "      <td>...</td>\n",
       "      <td>...</td>\n",
       "      <td>...</td>\n",
       "      <td>...</td>\n",
       "      <td>...</td>\n",
       "      <td>...</td>\n",
       "      <td>...</td>\n",
       "    </tr>\n",
       "    <tr>\n",
       "      <th>29165</th>\n",
       "      <td>27.0</td>\n",
       "      <td>12</td>\n",
       "      <td>Married-civ-spouse</td>\n",
       "      <td>White</td>\n",
       "      <td>Female</td>\n",
       "      <td>38</td>\n",
       "      <td>&lt;=50K</td>\n",
       "      <td>NaN</td>\n",
       "      <td>NaN</td>\n",
       "    </tr>\n",
       "    <tr>\n",
       "      <th>29166</th>\n",
       "      <td>40.0</td>\n",
       "      <td>9</td>\n",
       "      <td>Married-civ-spouse</td>\n",
       "      <td>White</td>\n",
       "      <td>Male</td>\n",
       "      <td>40</td>\n",
       "      <td>&gt;50K</td>\n",
       "      <td>NaN</td>\n",
       "      <td>NaN</td>\n",
       "    </tr>\n",
       "    <tr>\n",
       "      <th>29167</th>\n",
       "      <td>58.0</td>\n",
       "      <td>9</td>\n",
       "      <td>Widowed</td>\n",
       "      <td>White</td>\n",
       "      <td>Female</td>\n",
       "      <td>40</td>\n",
       "      <td>&lt;=50K</td>\n",
       "      <td>NaN</td>\n",
       "      <td>NaN</td>\n",
       "    </tr>\n",
       "    <tr>\n",
       "      <th>29168</th>\n",
       "      <td>22.0</td>\n",
       "      <td>9</td>\n",
       "      <td>Never-married</td>\n",
       "      <td>White</td>\n",
       "      <td>Male</td>\n",
       "      <td>20</td>\n",
       "      <td>&lt;=50K</td>\n",
       "      <td>NaN</td>\n",
       "      <td>NaN</td>\n",
       "    </tr>\n",
       "    <tr>\n",
       "      <th>29169</th>\n",
       "      <td>52.0</td>\n",
       "      <td>9</td>\n",
       "      <td>Married-civ-spouse</td>\n",
       "      <td>White</td>\n",
       "      <td>Female</td>\n",
       "      <td>40</td>\n",
       "      <td>&gt;50K</td>\n",
       "      <td>NaN</td>\n",
       "      <td>NaN</td>\n",
       "    </tr>\n",
       "  </tbody>\n",
       "</table>\n",
       "<p>29170 rows × 9 columns</p>\n",
       "</div>"
      ],
      "text/plain": [
       "       idade  tempo_educacao        estado_civil    cor    sexo  \\\n",
       "0       39.0              13       Never-married  White    Male   \n",
       "1       50.0              13  Married-civ-spouse  White    Male   \n",
       "2       38.0               9            Divorced  White    Male   \n",
       "3       53.0               7  Married-civ-spouse  Black    Male   \n",
       "4       37.0              14  Married-civ-spouse  White  Female   \n",
       "...      ...             ...                 ...    ...     ...   \n",
       "29165   27.0              12  Married-civ-spouse  White  Female   \n",
       "29166   40.0               9  Married-civ-spouse  White    Male   \n",
       "29167   58.0               9             Widowed  White  Female   \n",
       "29168   22.0               9       Never-married  White    Male   \n",
       "29169   52.0               9  Married-civ-spouse  White  Female   \n",
       "\n",
       "       horas_por_semana salario_anual  nome  dívida  \n",
       "0                    40         <=50K   NaN     NaN  \n",
       "1                    13         <=50K   NaN     NaN  \n",
       "2                    40         <=50K   NaN     NaN  \n",
       "3                    40         <=50K   NaN     NaN  \n",
       "4                    40         <=50K   NaN     NaN  \n",
       "...                 ...           ...   ...     ...  \n",
       "29165                38         <=50K   NaN     NaN  \n",
       "29166                40          >50K   NaN     NaN  \n",
       "29167                40         <=50K   NaN     NaN  \n",
       "29168                20         <=50K   NaN     NaN  \n",
       "29169                40          >50K   NaN     NaN  \n",
       "\n",
       "[29170 rows x 9 columns]"
      ]
     },
     "execution_count": 10,
     "metadata": {},
     "output_type": "execute_result"
    }
   ],
   "source": [
    "df.sexo = df.sexo.map({'Male':'Male',\"Female\":'Female','?':'Outros'})\n",
    "df"
   ]
  },
  {
   "cell_type": "code",
   "execution_count": 11,
   "metadata": {},
   "outputs": [
    {
     "data": {
      "text/plain": [
       "Male      18181\n",
       "Female     9052\n",
       "Outros     1937\n",
       "Name: sexo, dtype: int64"
      ]
     },
     "execution_count": 11,
     "metadata": {},
     "output_type": "execute_result"
    }
   ],
   "source": [
    "df.sexo.value_counts()"
   ]
  },
  {
   "cell_type": "markdown",
   "metadata": {},
   "source": [
    "### * 6- Tratamento nas variaveis Faltantes*"
   ]
  },
  {
   "cell_type": "code",
   "execution_count": 12,
   "metadata": {},
   "outputs": [],
   "source": [
    "def preprocessamento(df,col_num,col_categ):\n",
    "    dff = df.copy()\n",
    "    temp = (df.isnull().sum()/df.shape[0])>=0.8\n",
    "    variavel_80 =temp.loc[temp == True].index.tolist()\n",
    "    \n",
    "    for v in variavel_80:\n",
    "        dff = dff.drop(v,axis=1)\n",
    "    \n",
    "    col_num = list(set(col_num).intersection(set(dff.columns.tolist())))\n",
    "    col_categ = list(set(col_categ).intersection(set(dff.columns.tolist())))\n",
    "    \n",
    "    for v in col_num:\n",
    "        dff[v] = dff[v].fillna(dff[v].mean())\n",
    "    \n",
    "    for v in col_categ:\n",
    "        mode_v = dff[v].value_counts().idxmax()\n",
    "        dff[v] = dff[v].fillna(mode_v)\n",
    "    return dff"
   ]
  },
  {
   "cell_type": "code",
   "execution_count": 13,
   "metadata": {},
   "outputs": [
    {
     "data": {
      "text/html": [
       "<div>\n",
       "<style scoped>\n",
       "    .dataframe tbody tr th:only-of-type {\n",
       "        vertical-align: middle;\n",
       "    }\n",
       "\n",
       "    .dataframe tbody tr th {\n",
       "        vertical-align: top;\n",
       "    }\n",
       "\n",
       "    .dataframe thead th {\n",
       "        text-align: right;\n",
       "    }\n",
       "</style>\n",
       "<table border=\"1\" class=\"dataframe\">\n",
       "  <thead>\n",
       "    <tr style=\"text-align: right;\">\n",
       "      <th></th>\n",
       "      <th>idade</th>\n",
       "      <th>tempo_educacao</th>\n",
       "      <th>estado_civil</th>\n",
       "      <th>cor</th>\n",
       "      <th>sexo</th>\n",
       "      <th>horas_por_semana</th>\n",
       "      <th>salario_anual</th>\n",
       "    </tr>\n",
       "  </thead>\n",
       "  <tbody>\n",
       "    <tr>\n",
       "      <th>0</th>\n",
       "      <td>39.0</td>\n",
       "      <td>13</td>\n",
       "      <td>Never-married</td>\n",
       "      <td>White</td>\n",
       "      <td>Male</td>\n",
       "      <td>40</td>\n",
       "      <td>&lt;=50K</td>\n",
       "    </tr>\n",
       "    <tr>\n",
       "      <th>1</th>\n",
       "      <td>50.0</td>\n",
       "      <td>13</td>\n",
       "      <td>Married-civ-spouse</td>\n",
       "      <td>White</td>\n",
       "      <td>Male</td>\n",
       "      <td>13</td>\n",
       "      <td>&lt;=50K</td>\n",
       "    </tr>\n",
       "    <tr>\n",
       "      <th>2</th>\n",
       "      <td>38.0</td>\n",
       "      <td>9</td>\n",
       "      <td>Divorced</td>\n",
       "      <td>White</td>\n",
       "      <td>Male</td>\n",
       "      <td>40</td>\n",
       "      <td>&lt;=50K</td>\n",
       "    </tr>\n",
       "    <tr>\n",
       "      <th>3</th>\n",
       "      <td>53.0</td>\n",
       "      <td>7</td>\n",
       "      <td>Married-civ-spouse</td>\n",
       "      <td>Black</td>\n",
       "      <td>Male</td>\n",
       "      <td>40</td>\n",
       "      <td>&lt;=50K</td>\n",
       "    </tr>\n",
       "    <tr>\n",
       "      <th>4</th>\n",
       "      <td>37.0</td>\n",
       "      <td>14</td>\n",
       "      <td>Married-civ-spouse</td>\n",
       "      <td>White</td>\n",
       "      <td>Female</td>\n",
       "      <td>40</td>\n",
       "      <td>&lt;=50K</td>\n",
       "    </tr>\n",
       "  </tbody>\n",
       "</table>\n",
       "</div>"
      ],
      "text/plain": [
       "   idade  tempo_educacao        estado_civil    cor    sexo  horas_por_semana  \\\n",
       "0   39.0              13       Never-married  White    Male                40   \n",
       "1   50.0              13  Married-civ-spouse  White    Male                13   \n",
       "2   38.0               9            Divorced  White    Male                40   \n",
       "3   53.0               7  Married-civ-spouse  Black    Male                40   \n",
       "4   37.0              14  Married-civ-spouse  White  Female                40   \n",
       "\n",
       "  salario_anual  \n",
       "0         <=50K  \n",
       "1         <=50K  \n",
       "2         <=50K  \n",
       "3         <=50K  \n",
       "4         <=50K  "
      ]
     },
     "execution_count": 13,
     "metadata": {},
     "output_type": "execute_result"
    }
   ],
   "source": [
    "df_limpo = preprocessamento(df,['idade','tempo_educacao','horas_por_semana','divida'],['estado_civil','cor','sexo','salario_anual','nome'])\n",
    "df_limpo.head()"
   ]
  },
  {
   "cell_type": "code",
   "execution_count": 14,
   "metadata": {},
   "outputs": [
    {
     "data": {
      "text/html": [
       "<div>\n",
       "<style scoped>\n",
       "    .dataframe tbody tr th:only-of-type {\n",
       "        vertical-align: middle;\n",
       "    }\n",
       "\n",
       "    .dataframe tbody tr th {\n",
       "        vertical-align: top;\n",
       "    }\n",
       "\n",
       "    .dataframe thead th {\n",
       "        text-align: right;\n",
       "    }\n",
       "</style>\n",
       "<table border=\"1\" class=\"dataframe\">\n",
       "  <thead>\n",
       "    <tr style=\"text-align: right;\">\n",
       "      <th></th>\n",
       "      <th>idade</th>\n",
       "      <th>tempo_educacao</th>\n",
       "      <th>estado_civil</th>\n",
       "      <th>cor</th>\n",
       "      <th>sexo</th>\n",
       "      <th>horas_por_semana</th>\n",
       "      <th>salario_anual</th>\n",
       "      <th>nome</th>\n",
       "      <th>dívida</th>\n",
       "    </tr>\n",
       "  </thead>\n",
       "  <tbody>\n",
       "    <tr>\n",
       "      <th>0</th>\n",
       "      <td>39.0</td>\n",
       "      <td>13</td>\n",
       "      <td>Never-married</td>\n",
       "      <td>White</td>\n",
       "      <td>Male</td>\n",
       "      <td>40</td>\n",
       "      <td>&lt;=50K</td>\n",
       "      <td>NaN</td>\n",
       "      <td>NaN</td>\n",
       "    </tr>\n",
       "    <tr>\n",
       "      <th>1</th>\n",
       "      <td>50.0</td>\n",
       "      <td>13</td>\n",
       "      <td>Married-civ-spouse</td>\n",
       "      <td>White</td>\n",
       "      <td>Male</td>\n",
       "      <td>13</td>\n",
       "      <td>&lt;=50K</td>\n",
       "      <td>NaN</td>\n",
       "      <td>NaN</td>\n",
       "    </tr>\n",
       "    <tr>\n",
       "      <th>2</th>\n",
       "      <td>38.0</td>\n",
       "      <td>9</td>\n",
       "      <td>Divorced</td>\n",
       "      <td>White</td>\n",
       "      <td>Male</td>\n",
       "      <td>40</td>\n",
       "      <td>&lt;=50K</td>\n",
       "      <td>NaN</td>\n",
       "      <td>NaN</td>\n",
       "    </tr>\n",
       "    <tr>\n",
       "      <th>3</th>\n",
       "      <td>53.0</td>\n",
       "      <td>7</td>\n",
       "      <td>Married-civ-spouse</td>\n",
       "      <td>Black</td>\n",
       "      <td>Male</td>\n",
       "      <td>40</td>\n",
       "      <td>&lt;=50K</td>\n",
       "      <td>NaN</td>\n",
       "      <td>NaN</td>\n",
       "    </tr>\n",
       "    <tr>\n",
       "      <th>4</th>\n",
       "      <td>37.0</td>\n",
       "      <td>14</td>\n",
       "      <td>Married-civ-spouse</td>\n",
       "      <td>White</td>\n",
       "      <td>Female</td>\n",
       "      <td>40</td>\n",
       "      <td>&lt;=50K</td>\n",
       "      <td>NaN</td>\n",
       "      <td>NaN</td>\n",
       "    </tr>\n",
       "  </tbody>\n",
       "</table>\n",
       "</div>"
      ],
      "text/plain": [
       "   idade  tempo_educacao        estado_civil    cor    sexo  horas_por_semana  \\\n",
       "0   39.0              13       Never-married  White    Male                40   \n",
       "1   50.0              13  Married-civ-spouse  White    Male                13   \n",
       "2   38.0               9            Divorced  White    Male                40   \n",
       "3   53.0               7  Married-civ-spouse  Black    Male                40   \n",
       "4   37.0              14  Married-civ-spouse  White  Female                40   \n",
       "\n",
       "  salario_anual  nome  dívida  \n",
       "0         <=50K   NaN     NaN  \n",
       "1         <=50K   NaN     NaN  \n",
       "2         <=50K   NaN     NaN  \n",
       "3         <=50K   NaN     NaN  \n",
       "4         <=50K   NaN     NaN  "
      ]
     },
     "execution_count": 14,
     "metadata": {},
     "output_type": "execute_result"
    }
   ],
   "source": [
    "df.head()\n"
   ]
  },
  {
   "cell_type": "markdown",
   "metadata": {},
   "source": [
    "### *7.1 - Normalização MinMax*"
   ]
  },
  {
   "cell_type": "code",
   "execution_count": 15,
   "metadata": {},
   "outputs": [
    {
     "data": {
      "text/plain": [
       "<AxesSubplot:title={'center':'\\nHistograma do Tempo Educação\\n'}>"
      ]
     },
     "execution_count": 15,
     "metadata": {},
     "output_type": "execute_result"
    },
    {
     "data": {
      "image/png": "[encoded data removed]",
      "text/plain": [
       "<Figure size 432x288 with 1 Axes>"
      ]
     },
     "metadata": {
      "needs_background": "light"
     },
     "output_type": "display_data"
    }
   ],
   "source": [
    "plt.title(\"\\nHistograma do Tempo Educação\\n\",{'fontweight':'bold'})\n",
    "df_limpo['tempo_educacao'].hist()\n"
   ]
  },
  {
   "cell_type": "code",
   "execution_count": 16,
   "metadata": {},
   "outputs": [],
   "source": [
    "X = df_limpo.tempo_educacao.values\n",
    "M = np.max(X)\n",
    "m = np.min(X)\n",
    "X_minmax = (X - m) / (M-m)"
   ]
  },
  {
   "cell_type": "code",
   "execution_count": 17,
   "metadata": {},
   "outputs": [
    {
     "data": {
      "image/png": "[encoded data removed]",
      "text/plain": [
       "<Figure size 432x288 with 1 Axes>"
      ]
     },
     "metadata": {
      "needs_background": "light"
     },
     "output_type": "display_data"
    }
   ],
   "source": [
    "plt.title(\"\\nHistograma do Tempo Educação normalizado com MinMax\\n\",{'fontweight':'bold'})\n",
    "plt.hist(X_minmax)\n",
    "plt.show()"
   ]
  },
  {
   "cell_type": "markdown",
   "metadata": {},
   "source": [
    "### *7.2 - Normalização StandardScaler*"
   ]
  },
  {
   "cell_type": "code",
   "execution_count": 18,
   "metadata": {},
   "outputs": [
    {
     "data": {
      "text/plain": [
       "<AxesSubplot:title={'center':'\\nHistograma da horas por semana\\n'}>"
      ]
     },
     "execution_count": 18,
     "metadata": {},
     "output_type": "execute_result"
    },
    {
     "data": {
      "image/png": "[encoded data removed]",
      "text/plain": [
       "<Figure size 432x288 with 1 Axes>"
      ]
     },
     "metadata": {
      "needs_background": "light"
     },
     "output_type": "display_data"
    }
   ],
   "source": [
    "plt.title(\"\\nHistograma da horas por semana\\n\",{'fontweight':'bold'})\n",
    "df.horas_por_semana.hist()"
   ]
  },
  {
   "cell_type": "code",
   "execution_count": 19,
   "metadata": {},
   "outputs": [],
   "source": [
    "X = df.horas_por_semana.values\n",
    "Md = np.mean(X)\n",
    "S = np.std(X)\n",
    "X_standard = (X - Md) / S"
   ]
  },
  {
   "cell_type": "code",
   "execution_count": 20,
   "metadata": {},
   "outputs": [
    {
     "data": {
      "image/png": "[encoded data removed]",
      "text/plain": [
       "<Figure size 432x288 with 1 Axes>"
      ]
     },
     "metadata": {
      "needs_background": "light"
     },
     "output_type": "display_data"
    }
   ],
   "source": [
    "plt.title(\"\\nHistograma da horas por semana normalizado com StandardScaler\\n\",{'fontweight':'bold'})\n",
    "plt.hist(X_standard)\n",
    "plt.show()"
   ]
  },
  {
   "cell_type": "markdown",
   "metadata": {},
   "source": [
    "### *8 - One Hot Encoding*"
   ]
  },
  {
   "cell_type": "code",
   "execution_count": 21,
   "metadata": {},
   "outputs": [],
   "source": [
    "ohe1 = OneHotEncoder()\n",
    "ohe2 = OneHotEncoder()\n",
    "ohe3 = OneHotEncoder()"
   ]
  },
  {
   "cell_type": "code",
   "execution_count": 22,
   "metadata": {},
   "outputs": [],
   "source": [
    "dff_hot = df.copy()"
   ]
  },
  {
   "cell_type": "code",
   "execution_count": 23,
   "metadata": {},
   "outputs": [
    {
     "data": {
      "text/plain": [
       "OneHotEncoder()"
      ]
     },
     "execution_count": 23,
     "metadata": {},
     "output_type": "execute_result"
    }
   ],
   "source": [
    "variavel_ohe1 = dff_hot.estado_civil.values.reshape(-1,1)\n",
    "variavel_ohe2 = dff_hot.cor.values.reshape(-1,1)\n",
    "variavel_ohe3 = dff_hot.sexo.values.reshape(-1,1)\n",
    "\n",
    "ohe1.fit(variavel_ohe1)\n",
    "ohe2.fit(variavel_ohe2)\n",
    "ohe3.fit(variavel_ohe3)"
   ]
  },
  {
   "cell_type": "code",
   "execution_count": 24,
   "metadata": {},
   "outputs": [
    {
     "data": {
      "text/plain": [
       "<29170x3 sparse matrix of type '<class 'numpy.float64'>'\n",
       "\twith 29170 stored elements in Compressed Sparse Row format>"
      ]
     },
     "execution_count": 24,
     "metadata": {},
     "output_type": "execute_result"
    }
   ],
   "source": [
    "ohe1.transform(variavel_ohe1)\n",
    "ohe2.transform(variavel_ohe2)\n",
    "ohe3.transform(variavel_ohe3)"
   ]
  },
  {
   "cell_type": "code",
   "execution_count": 25,
   "metadata": {},
   "outputs": [
    {
     "data": {
      "text/plain": [
       "array([[0., 1., 0.],\n",
       "       [0., 1., 0.],\n",
       "       [0., 1., 0.],\n",
       "       ...,\n",
       "       [1., 0., 0.],\n",
       "       [0., 1., 0.],\n",
       "       [1., 0., 0.]])"
      ]
     },
     "execution_count": 25,
     "metadata": {},
     "output_type": "execute_result"
    }
   ],
   "source": [
    "ohe1.transform(variavel_ohe1).toarray()\n",
    "ohe2.transform(variavel_ohe2).toarray()\n",
    "ohe3.transform(variavel_ohe3).toarray()"
   ]
  },
  {
   "cell_type": "code",
   "execution_count": 26,
   "metadata": {},
   "outputs": [
    {
     "data": {
      "text/plain": [
       "[array(['Divorced', 'Married-AF-spouse', 'Married-civ-spouse',\n",
       "        'Married-spouse-absent', 'Never-married', 'Separated', 'Widowed'],\n",
       "       dtype=object)]"
      ]
     },
     "execution_count": 26,
     "metadata": {},
     "output_type": "execute_result"
    }
   ],
   "source": [
    "ohe1.categories_"
   ]
  },
  {
   "cell_type": "code",
   "execution_count": 27,
   "metadata": {},
   "outputs": [
    {
     "data": {
      "text/plain": [
       "[array(['Amer-Indian-Eskimo', 'Asian-Pac-Islander', 'Black', 'Other',\n",
       "        'White'], dtype=object)]"
      ]
     },
     "execution_count": 27,
     "metadata": {},
     "output_type": "execute_result"
    }
   ],
   "source": [
    "ohe2.categories_"
   ]
  },
  {
   "cell_type": "code",
   "execution_count": 28,
   "metadata": {},
   "outputs": [
    {
     "data": {
      "text/plain": [
       "[array(['Female', 'Male', 'Outros'], dtype=object)]"
      ]
     },
     "execution_count": 28,
     "metadata": {},
     "output_type": "execute_result"
    }
   ],
   "source": [
    "ohe3.categories_"
   ]
  },
  {
   "cell_type": "code",
   "execution_count": 29,
   "metadata": {},
   "outputs": [
    {
     "data": {
      "text/html": [
       "<div>\n",
       "<style scoped>\n",
       "    .dataframe tbody tr th:only-of-type {\n",
       "        vertical-align: middle;\n",
       "    }\n",
       "\n",
       "    .dataframe tbody tr th {\n",
       "        vertical-align: top;\n",
       "    }\n",
       "\n",
       "    .dataframe thead th {\n",
       "        text-align: right;\n",
       "    }\n",
       "</style>\n",
       "<table border=\"1\" class=\"dataframe\">\n",
       "  <thead>\n",
       "    <tr style=\"text-align: right;\">\n",
       "      <th></th>\n",
       "      <th>Divorced</th>\n",
       "      <th>Married-AF-spouse</th>\n",
       "      <th>Married-civ-spouse</th>\n",
       "      <th>Married-spouse-absent</th>\n",
       "      <th>Never-married</th>\n",
       "      <th>Separated</th>\n",
       "      <th>Widowed</th>\n",
       "    </tr>\n",
       "  </thead>\n",
       "  <tbody>\n",
       "    <tr>\n",
       "      <th>0</th>\n",
       "      <td>0.0</td>\n",
       "      <td>0.0</td>\n",
       "      <td>0.0</td>\n",
       "      <td>0.0</td>\n",
       "      <td>1.0</td>\n",
       "      <td>0.0</td>\n",
       "      <td>0.0</td>\n",
       "    </tr>\n",
       "    <tr>\n",
       "      <th>1</th>\n",
       "      <td>0.0</td>\n",
       "      <td>0.0</td>\n",
       "      <td>1.0</td>\n",
       "      <td>0.0</td>\n",
       "      <td>0.0</td>\n",
       "      <td>0.0</td>\n",
       "      <td>0.0</td>\n",
       "    </tr>\n",
       "    <tr>\n",
       "      <th>2</th>\n",
       "      <td>1.0</td>\n",
       "      <td>0.0</td>\n",
       "      <td>0.0</td>\n",
       "      <td>0.0</td>\n",
       "      <td>0.0</td>\n",
       "      <td>0.0</td>\n",
       "      <td>0.0</td>\n",
       "    </tr>\n",
       "    <tr>\n",
       "      <th>3</th>\n",
       "      <td>0.0</td>\n",
       "      <td>0.0</td>\n",
       "      <td>1.0</td>\n",
       "      <td>0.0</td>\n",
       "      <td>0.0</td>\n",
       "      <td>0.0</td>\n",
       "      <td>0.0</td>\n",
       "    </tr>\n",
       "    <tr>\n",
       "      <th>4</th>\n",
       "      <td>0.0</td>\n",
       "      <td>0.0</td>\n",
       "      <td>1.0</td>\n",
       "      <td>0.0</td>\n",
       "      <td>0.0</td>\n",
       "      <td>0.0</td>\n",
       "      <td>0.0</td>\n",
       "    </tr>\n",
       "    <tr>\n",
       "      <th>...</th>\n",
       "      <td>...</td>\n",
       "      <td>...</td>\n",
       "      <td>...</td>\n",
       "      <td>...</td>\n",
       "      <td>...</td>\n",
       "      <td>...</td>\n",
       "      <td>...</td>\n",
       "    </tr>\n",
       "    <tr>\n",
       "      <th>29165</th>\n",
       "      <td>0.0</td>\n",
       "      <td>0.0</td>\n",
       "      <td>1.0</td>\n",
       "      <td>0.0</td>\n",
       "      <td>0.0</td>\n",
       "      <td>0.0</td>\n",
       "      <td>0.0</td>\n",
       "    </tr>\n",
       "    <tr>\n",
       "      <th>29166</th>\n",
       "      <td>0.0</td>\n",
       "      <td>0.0</td>\n",
       "      <td>1.0</td>\n",
       "      <td>0.0</td>\n",
       "      <td>0.0</td>\n",
       "      <td>0.0</td>\n",
       "      <td>0.0</td>\n",
       "    </tr>\n",
       "    <tr>\n",
       "      <th>29167</th>\n",
       "      <td>0.0</td>\n",
       "      <td>0.0</td>\n",
       "      <td>0.0</td>\n",
       "      <td>0.0</td>\n",
       "      <td>0.0</td>\n",
       "      <td>0.0</td>\n",
       "      <td>1.0</td>\n",
       "    </tr>\n",
       "    <tr>\n",
       "      <th>29168</th>\n",
       "      <td>0.0</td>\n",
       "      <td>0.0</td>\n",
       "      <td>0.0</td>\n",
       "      <td>0.0</td>\n",
       "      <td>1.0</td>\n",
       "      <td>0.0</td>\n",
       "      <td>0.0</td>\n",
       "    </tr>\n",
       "    <tr>\n",
       "      <th>29169</th>\n",
       "      <td>0.0</td>\n",
       "      <td>0.0</td>\n",
       "      <td>1.0</td>\n",
       "      <td>0.0</td>\n",
       "      <td>0.0</td>\n",
       "      <td>0.0</td>\n",
       "      <td>0.0</td>\n",
       "    </tr>\n",
       "  </tbody>\n",
       "</table>\n",
       "<p>29170 rows × 7 columns</p>\n",
       "</div>"
      ],
      "text/plain": [
       "       Divorced  Married-AF-spouse  Married-civ-spouse  Married-spouse-absent  \\\n",
       "0           0.0                0.0                 0.0                    0.0   \n",
       "1           0.0                0.0                 1.0                    0.0   \n",
       "2           1.0                0.0                 0.0                    0.0   \n",
       "3           0.0                0.0                 1.0                    0.0   \n",
       "4           0.0                0.0                 1.0                    0.0   \n",
       "...         ...                ...                 ...                    ...   \n",
       "29165       0.0                0.0                 1.0                    0.0   \n",
       "29166       0.0                0.0                 1.0                    0.0   \n",
       "29167       0.0                0.0                 0.0                    0.0   \n",
       "29168       0.0                0.0                 0.0                    0.0   \n",
       "29169       0.0                0.0                 1.0                    0.0   \n",
       "\n",
       "       Never-married  Separated  Widowed  \n",
       "0                1.0        0.0      0.0  \n",
       "1                0.0        0.0      0.0  \n",
       "2                0.0        0.0      0.0  \n",
       "3                0.0        0.0      0.0  \n",
       "4                0.0        0.0      0.0  \n",
       "...              ...        ...      ...  \n",
       "29165            0.0        0.0      0.0  \n",
       "29166            0.0        0.0      0.0  \n",
       "29167            0.0        0.0      1.0  \n",
       "29168            1.0        0.0      0.0  \n",
       "29169            0.0        0.0      0.0  \n",
       "\n",
       "[29170 rows x 7 columns]"
      ]
     },
     "execution_count": 29,
     "metadata": {},
     "output_type": "execute_result"
    }
   ],
   "source": [
    "dataframe_OHE1 = pd.DataFrame(ohe1.transform(variavel_ohe1).toarray(), \n",
    "                             columns = ohe1.categories_[0].tolist())\n",
    "dataframe_OHE1"
   ]
  },
  {
   "cell_type": "code",
   "execution_count": 30,
   "metadata": {},
   "outputs": [
    {
     "data": {
      "text/html": [
       "<div>\n",
       "<style scoped>\n",
       "    .dataframe tbody tr th:only-of-type {\n",
       "        vertical-align: middle;\n",
       "    }\n",
       "\n",
       "    .dataframe tbody tr th {\n",
       "        vertical-align: top;\n",
       "    }\n",
       "\n",
       "    .dataframe thead th {\n",
       "        text-align: right;\n",
       "    }\n",
       "</style>\n",
       "<table border=\"1\" class=\"dataframe\">\n",
       "  <thead>\n",
       "    <tr style=\"text-align: right;\">\n",
       "      <th></th>\n",
       "      <th>Amer-Indian-Eskimo</th>\n",
       "      <th>Asian-Pac-Islander</th>\n",
       "      <th>Black</th>\n",
       "      <th>Other</th>\n",
       "      <th>White</th>\n",
       "    </tr>\n",
       "  </thead>\n",
       "  <tbody>\n",
       "    <tr>\n",
       "      <th>0</th>\n",
       "      <td>0.0</td>\n",
       "      <td>0.0</td>\n",
       "      <td>0.0</td>\n",
       "      <td>0.0</td>\n",
       "      <td>1.0</td>\n",
       "    </tr>\n",
       "    <tr>\n",
       "      <th>1</th>\n",
       "      <td>0.0</td>\n",
       "      <td>0.0</td>\n",
       "      <td>0.0</td>\n",
       "      <td>0.0</td>\n",
       "      <td>1.0</td>\n",
       "    </tr>\n",
       "    <tr>\n",
       "      <th>2</th>\n",
       "      <td>0.0</td>\n",
       "      <td>0.0</td>\n",
       "      <td>0.0</td>\n",
       "      <td>0.0</td>\n",
       "      <td>1.0</td>\n",
       "    </tr>\n",
       "    <tr>\n",
       "      <th>3</th>\n",
       "      <td>0.0</td>\n",
       "      <td>0.0</td>\n",
       "      <td>1.0</td>\n",
       "      <td>0.0</td>\n",
       "      <td>0.0</td>\n",
       "    </tr>\n",
       "    <tr>\n",
       "      <th>4</th>\n",
       "      <td>0.0</td>\n",
       "      <td>0.0</td>\n",
       "      <td>0.0</td>\n",
       "      <td>0.0</td>\n",
       "      <td>1.0</td>\n",
       "    </tr>\n",
       "    <tr>\n",
       "      <th>...</th>\n",
       "      <td>...</td>\n",
       "      <td>...</td>\n",
       "      <td>...</td>\n",
       "      <td>...</td>\n",
       "      <td>...</td>\n",
       "    </tr>\n",
       "    <tr>\n",
       "      <th>29165</th>\n",
       "      <td>0.0</td>\n",
       "      <td>0.0</td>\n",
       "      <td>0.0</td>\n",
       "      <td>0.0</td>\n",
       "      <td>1.0</td>\n",
       "    </tr>\n",
       "    <tr>\n",
       "      <th>29166</th>\n",
       "      <td>0.0</td>\n",
       "      <td>0.0</td>\n",
       "      <td>0.0</td>\n",
       "      <td>0.0</td>\n",
       "      <td>1.0</td>\n",
       "    </tr>\n",
       "    <tr>\n",
       "      <th>29167</th>\n",
       "      <td>0.0</td>\n",
       "      <td>0.0</td>\n",
       "      <td>0.0</td>\n",
       "      <td>0.0</td>\n",
       "      <td>1.0</td>\n",
       "    </tr>\n",
       "    <tr>\n",
       "      <th>29168</th>\n",
       "      <td>0.0</td>\n",
       "      <td>0.0</td>\n",
       "      <td>0.0</td>\n",
       "      <td>0.0</td>\n",
       "      <td>1.0</td>\n",
       "    </tr>\n",
       "    <tr>\n",
       "      <th>29169</th>\n",
       "      <td>0.0</td>\n",
       "      <td>0.0</td>\n",
       "      <td>0.0</td>\n",
       "      <td>0.0</td>\n",
       "      <td>1.0</td>\n",
       "    </tr>\n",
       "  </tbody>\n",
       "</table>\n",
       "<p>29170 rows × 5 columns</p>\n",
       "</div>"
      ],
      "text/plain": [
       "       Amer-Indian-Eskimo  Asian-Pac-Islander  Black  Other  White\n",
       "0                     0.0                 0.0    0.0    0.0    1.0\n",
       "1                     0.0                 0.0    0.0    0.0    1.0\n",
       "2                     0.0                 0.0    0.0    0.0    1.0\n",
       "3                     0.0                 0.0    1.0    0.0    0.0\n",
       "4                     0.0                 0.0    0.0    0.0    1.0\n",
       "...                   ...                 ...    ...    ...    ...\n",
       "29165                 0.0                 0.0    0.0    0.0    1.0\n",
       "29166                 0.0                 0.0    0.0    0.0    1.0\n",
       "29167                 0.0                 0.0    0.0    0.0    1.0\n",
       "29168                 0.0                 0.0    0.0    0.0    1.0\n",
       "29169                 0.0                 0.0    0.0    0.0    1.0\n",
       "\n",
       "[29170 rows x 5 columns]"
      ]
     },
     "execution_count": 30,
     "metadata": {},
     "output_type": "execute_result"
    }
   ],
   "source": [
    "dataframe_OHE2 = pd.DataFrame(ohe2.transform(variavel_ohe2).toarray(), \n",
    "                             columns = ohe2.categories_[0].tolist())\n",
    "dataframe_OHE2"
   ]
  },
  {
   "cell_type": "code",
   "execution_count": 31,
   "metadata": {},
   "outputs": [
    {
     "data": {
      "text/html": [
       "<div>\n",
       "<style scoped>\n",
       "    .dataframe tbody tr th:only-of-type {\n",
       "        vertical-align: middle;\n",
       "    }\n",
       "\n",
       "    .dataframe tbody tr th {\n",
       "        vertical-align: top;\n",
       "    }\n",
       "\n",
       "    .dataframe thead th {\n",
       "        text-align: right;\n",
       "    }\n",
       "</style>\n",
       "<table border=\"1\" class=\"dataframe\">\n",
       "  <thead>\n",
       "    <tr style=\"text-align: right;\">\n",
       "      <th></th>\n",
       "      <th>Female</th>\n",
       "      <th>Male</th>\n",
       "      <th>Outros</th>\n",
       "    </tr>\n",
       "  </thead>\n",
       "  <tbody>\n",
       "    <tr>\n",
       "      <th>0</th>\n",
       "      <td>0.0</td>\n",
       "      <td>1.0</td>\n",
       "      <td>0.0</td>\n",
       "    </tr>\n",
       "    <tr>\n",
       "      <th>1</th>\n",
       "      <td>0.0</td>\n",
       "      <td>1.0</td>\n",
       "      <td>0.0</td>\n",
       "    </tr>\n",
       "    <tr>\n",
       "      <th>2</th>\n",
       "      <td>0.0</td>\n",
       "      <td>1.0</td>\n",
       "      <td>0.0</td>\n",
       "    </tr>\n",
       "    <tr>\n",
       "      <th>3</th>\n",
       "      <td>0.0</td>\n",
       "      <td>1.0</td>\n",
       "      <td>0.0</td>\n",
       "    </tr>\n",
       "    <tr>\n",
       "      <th>4</th>\n",
       "      <td>1.0</td>\n",
       "      <td>0.0</td>\n",
       "      <td>0.0</td>\n",
       "    </tr>\n",
       "    <tr>\n",
       "      <th>...</th>\n",
       "      <td>...</td>\n",
       "      <td>...</td>\n",
       "      <td>...</td>\n",
       "    </tr>\n",
       "    <tr>\n",
       "      <th>29165</th>\n",
       "      <td>1.0</td>\n",
       "      <td>0.0</td>\n",
       "      <td>0.0</td>\n",
       "    </tr>\n",
       "    <tr>\n",
       "      <th>29166</th>\n",
       "      <td>0.0</td>\n",
       "      <td>1.0</td>\n",
       "      <td>0.0</td>\n",
       "    </tr>\n",
       "    <tr>\n",
       "      <th>29167</th>\n",
       "      <td>1.0</td>\n",
       "      <td>0.0</td>\n",
       "      <td>0.0</td>\n",
       "    </tr>\n",
       "    <tr>\n",
       "      <th>29168</th>\n",
       "      <td>0.0</td>\n",
       "      <td>1.0</td>\n",
       "      <td>0.0</td>\n",
       "    </tr>\n",
       "    <tr>\n",
       "      <th>29169</th>\n",
       "      <td>1.0</td>\n",
       "      <td>0.0</td>\n",
       "      <td>0.0</td>\n",
       "    </tr>\n",
       "  </tbody>\n",
       "</table>\n",
       "<p>29170 rows × 3 columns</p>\n",
       "</div>"
      ],
      "text/plain": [
       "       Female  Male  Outros\n",
       "0         0.0   1.0     0.0\n",
       "1         0.0   1.0     0.0\n",
       "2         0.0   1.0     0.0\n",
       "3         0.0   1.0     0.0\n",
       "4         1.0   0.0     0.0\n",
       "...       ...   ...     ...\n",
       "29165     1.0   0.0     0.0\n",
       "29166     0.0   1.0     0.0\n",
       "29167     1.0   0.0     0.0\n",
       "29168     0.0   1.0     0.0\n",
       "29169     1.0   0.0     0.0\n",
       "\n",
       "[29170 rows x 3 columns]"
      ]
     },
     "execution_count": 31,
     "metadata": {},
     "output_type": "execute_result"
    }
   ],
   "source": [
    "dataframe_OHE3 = pd.DataFrame(ohe3.transform(variavel_ohe3).toarray(), \n",
    "                             columns = ohe3.categories_[0].tolist())\n",
    "dataframe_OHE3"
   ]
  },
  {
   "cell_type": "markdown",
   "metadata": {},
   "source": [
    "### *9 - Outliears*"
   ]
  },
  {
   "cell_type": "code",
   "execution_count": 32,
   "metadata": {},
   "outputs": [
    {
     "data": {
      "text/html": [
       "<div>\n",
       "<style scoped>\n",
       "    .dataframe tbody tr th:only-of-type {\n",
       "        vertical-align: middle;\n",
       "    }\n",
       "\n",
       "    .dataframe tbody tr th {\n",
       "        vertical-align: top;\n",
       "    }\n",
       "\n",
       "    .dataframe thead th {\n",
       "        text-align: right;\n",
       "    }\n",
       "</style>\n",
       "<table border=\"1\" class=\"dataframe\">\n",
       "  <thead>\n",
       "    <tr style=\"text-align: right;\">\n",
       "      <th></th>\n",
       "      <th>idade</th>\n",
       "      <th>tempo_educacao</th>\n",
       "      <th>estado_civil</th>\n",
       "      <th>cor</th>\n",
       "      <th>sexo</th>\n",
       "      <th>horas_por_semana</th>\n",
       "      <th>salario_anual</th>\n",
       "      <th>nome</th>\n",
       "      <th>dívida</th>\n",
       "    </tr>\n",
       "  </thead>\n",
       "  <tbody>\n",
       "    <tr>\n",
       "      <th>0</th>\n",
       "      <td>39.0</td>\n",
       "      <td>13</td>\n",
       "      <td>Never-married</td>\n",
       "      <td>White</td>\n",
       "      <td>Male</td>\n",
       "      <td>40</td>\n",
       "      <td>&lt;=50K</td>\n",
       "      <td>NaN</td>\n",
       "      <td>NaN</td>\n",
       "    </tr>\n",
       "    <tr>\n",
       "      <th>1</th>\n",
       "      <td>50.0</td>\n",
       "      <td>13</td>\n",
       "      <td>Married-civ-spouse</td>\n",
       "      <td>White</td>\n",
       "      <td>Male</td>\n",
       "      <td>13</td>\n",
       "      <td>&lt;=50K</td>\n",
       "      <td>NaN</td>\n",
       "      <td>NaN</td>\n",
       "    </tr>\n",
       "    <tr>\n",
       "      <th>2</th>\n",
       "      <td>38.0</td>\n",
       "      <td>9</td>\n",
       "      <td>Divorced</td>\n",
       "      <td>White</td>\n",
       "      <td>Male</td>\n",
       "      <td>40</td>\n",
       "      <td>&lt;=50K</td>\n",
       "      <td>NaN</td>\n",
       "      <td>NaN</td>\n",
       "    </tr>\n",
       "    <tr>\n",
       "      <th>3</th>\n",
       "      <td>53.0</td>\n",
       "      <td>7</td>\n",
       "      <td>Married-civ-spouse</td>\n",
       "      <td>Black</td>\n",
       "      <td>Male</td>\n",
       "      <td>40</td>\n",
       "      <td>&lt;=50K</td>\n",
       "      <td>NaN</td>\n",
       "      <td>NaN</td>\n",
       "    </tr>\n",
       "    <tr>\n",
       "      <th>4</th>\n",
       "      <td>37.0</td>\n",
       "      <td>14</td>\n",
       "      <td>Married-civ-spouse</td>\n",
       "      <td>White</td>\n",
       "      <td>Female</td>\n",
       "      <td>40</td>\n",
       "      <td>&lt;=50K</td>\n",
       "      <td>NaN</td>\n",
       "      <td>NaN</td>\n",
       "    </tr>\n",
       "    <tr>\n",
       "      <th>...</th>\n",
       "      <td>...</td>\n",
       "      <td>...</td>\n",
       "      <td>...</td>\n",
       "      <td>...</td>\n",
       "      <td>...</td>\n",
       "      <td>...</td>\n",
       "      <td>...</td>\n",
       "      <td>...</td>\n",
       "      <td>...</td>\n",
       "    </tr>\n",
       "    <tr>\n",
       "      <th>29165</th>\n",
       "      <td>27.0</td>\n",
       "      <td>12</td>\n",
       "      <td>Married-civ-spouse</td>\n",
       "      <td>White</td>\n",
       "      <td>Female</td>\n",
       "      <td>38</td>\n",
       "      <td>&lt;=50K</td>\n",
       "      <td>NaN</td>\n",
       "      <td>NaN</td>\n",
       "    </tr>\n",
       "    <tr>\n",
       "      <th>29166</th>\n",
       "      <td>40.0</td>\n",
       "      <td>9</td>\n",
       "      <td>Married-civ-spouse</td>\n",
       "      <td>White</td>\n",
       "      <td>Male</td>\n",
       "      <td>40</td>\n",
       "      <td>&gt;50K</td>\n",
       "      <td>NaN</td>\n",
       "      <td>NaN</td>\n",
       "    </tr>\n",
       "    <tr>\n",
       "      <th>29167</th>\n",
       "      <td>58.0</td>\n",
       "      <td>9</td>\n",
       "      <td>Widowed</td>\n",
       "      <td>White</td>\n",
       "      <td>Female</td>\n",
       "      <td>40</td>\n",
       "      <td>&lt;=50K</td>\n",
       "      <td>NaN</td>\n",
       "      <td>NaN</td>\n",
       "    </tr>\n",
       "    <tr>\n",
       "      <th>29168</th>\n",
       "      <td>22.0</td>\n",
       "      <td>9</td>\n",
       "      <td>Never-married</td>\n",
       "      <td>White</td>\n",
       "      <td>Male</td>\n",
       "      <td>20</td>\n",
       "      <td>&lt;=50K</td>\n",
       "      <td>NaN</td>\n",
       "      <td>NaN</td>\n",
       "    </tr>\n",
       "    <tr>\n",
       "      <th>29169</th>\n",
       "      <td>52.0</td>\n",
       "      <td>9</td>\n",
       "      <td>Married-civ-spouse</td>\n",
       "      <td>White</td>\n",
       "      <td>Female</td>\n",
       "      <td>40</td>\n",
       "      <td>&gt;50K</td>\n",
       "      <td>NaN</td>\n",
       "      <td>NaN</td>\n",
       "    </tr>\n",
       "  </tbody>\n",
       "</table>\n",
       "<p>29170 rows × 9 columns</p>\n",
       "</div>"
      ],
      "text/plain": [
       "       idade  tempo_educacao        estado_civil    cor    sexo  \\\n",
       "0       39.0              13       Never-married  White    Male   \n",
       "1       50.0              13  Married-civ-spouse  White    Male   \n",
       "2       38.0               9            Divorced  White    Male   \n",
       "3       53.0               7  Married-civ-spouse  Black    Male   \n",
       "4       37.0              14  Married-civ-spouse  White  Female   \n",
       "...      ...             ...                 ...    ...     ...   \n",
       "29165   27.0              12  Married-civ-spouse  White  Female   \n",
       "29166   40.0               9  Married-civ-spouse  White    Male   \n",
       "29167   58.0               9             Widowed  White  Female   \n",
       "29168   22.0               9       Never-married  White    Male   \n",
       "29169   52.0               9  Married-civ-spouse  White  Female   \n",
       "\n",
       "       horas_por_semana salario_anual  nome  dívida  \n",
       "0                    40         <=50K   NaN     NaN  \n",
       "1                    13         <=50K   NaN     NaN  \n",
       "2                    40         <=50K   NaN     NaN  \n",
       "3                    40         <=50K   NaN     NaN  \n",
       "4                    40         <=50K   NaN     NaN  \n",
       "...                 ...           ...   ...     ...  \n",
       "29165                38         <=50K   NaN     NaN  \n",
       "29166                40          >50K   NaN     NaN  \n",
       "29167                40         <=50K   NaN     NaN  \n",
       "29168                20         <=50K   NaN     NaN  \n",
       "29169                40          >50K   NaN     NaN  \n",
       "\n",
       "[29170 rows x 9 columns]"
      ]
     },
     "execution_count": 32,
     "metadata": {},
     "output_type": "execute_result"
    }
   ],
   "source": [
    "dfo = pd.read_csv(\"dataframe_exercicio_modulo_7.csv\")\n",
    "dfo"
   ]
  },
  {
   "cell_type": "code",
   "execution_count": 33,
   "metadata": {},
   "outputs": [
    {
     "data": {
      "text/html": [
       "<div>\n",
       "<style scoped>\n",
       "    .dataframe tbody tr th:only-of-type {\n",
       "        vertical-align: middle;\n",
       "    }\n",
       "\n",
       "    .dataframe tbody tr th {\n",
       "        vertical-align: top;\n",
       "    }\n",
       "\n",
       "    .dataframe thead th {\n",
       "        text-align: right;\n",
       "    }\n",
       "</style>\n",
       "<table border=\"1\" class=\"dataframe\">\n",
       "  <thead>\n",
       "    <tr style=\"text-align: right;\">\n",
       "      <th></th>\n",
       "      <th>idade</th>\n",
       "      <th>tempo_educacao</th>\n",
       "      <th>estado_civil</th>\n",
       "      <th>cor</th>\n",
       "      <th>sexo</th>\n",
       "      <th>horas_por_semana</th>\n",
       "      <th>salario_anual</th>\n",
       "    </tr>\n",
       "  </thead>\n",
       "  <tbody>\n",
       "    <tr>\n",
       "      <th>0</th>\n",
       "      <td>39.0</td>\n",
       "      <td>13</td>\n",
       "      <td>Never-married</td>\n",
       "      <td>White</td>\n",
       "      <td>Male</td>\n",
       "      <td>40</td>\n",
       "      <td>&lt;=50K</td>\n",
       "    </tr>\n",
       "    <tr>\n",
       "      <th>1</th>\n",
       "      <td>50.0</td>\n",
       "      <td>13</td>\n",
       "      <td>Married-civ-spouse</td>\n",
       "      <td>White</td>\n",
       "      <td>Male</td>\n",
       "      <td>13</td>\n",
       "      <td>&lt;=50K</td>\n",
       "    </tr>\n",
       "    <tr>\n",
       "      <th>2</th>\n",
       "      <td>38.0</td>\n",
       "      <td>9</td>\n",
       "      <td>Divorced</td>\n",
       "      <td>White</td>\n",
       "      <td>Male</td>\n",
       "      <td>40</td>\n",
       "      <td>&lt;=50K</td>\n",
       "    </tr>\n",
       "    <tr>\n",
       "      <th>3</th>\n",
       "      <td>53.0</td>\n",
       "      <td>7</td>\n",
       "      <td>Married-civ-spouse</td>\n",
       "      <td>Black</td>\n",
       "      <td>Male</td>\n",
       "      <td>40</td>\n",
       "      <td>&lt;=50K</td>\n",
       "    </tr>\n",
       "    <tr>\n",
       "      <th>4</th>\n",
       "      <td>37.0</td>\n",
       "      <td>14</td>\n",
       "      <td>Married-civ-spouse</td>\n",
       "      <td>White</td>\n",
       "      <td>Female</td>\n",
       "      <td>40</td>\n",
       "      <td>&lt;=50K</td>\n",
       "    </tr>\n",
       "  </tbody>\n",
       "</table>\n",
       "</div>"
      ],
      "text/plain": [
       "   idade  tempo_educacao        estado_civil    cor    sexo  horas_por_semana  \\\n",
       "0   39.0              13       Never-married  White    Male                40   \n",
       "1   50.0              13  Married-civ-spouse  White    Male                13   \n",
       "2   38.0               9            Divorced  White    Male                40   \n",
       "3   53.0               7  Married-civ-spouse  Black    Male                40   \n",
       "4   37.0              14  Married-civ-spouse  White  Female                40   \n",
       "\n",
       "  salario_anual  \n",
       "0         <=50K  \n",
       "1         <=50K  \n",
       "2         <=50K  \n",
       "3         <=50K  \n",
       "4         <=50K  "
      ]
     },
     "execution_count": 33,
     "metadata": {},
     "output_type": "execute_result"
    }
   ],
   "source": [
    "dfo_limpo = preprocessamento(dfo,['idade','tempo_educacao','horas_por_semana','divida'],['estado_civil','cor','sexo','salario_anual','nome'])\n",
    "dfo_limpo.head()"
   ]
  },
  {
   "cell_type": "code",
   "execution_count": 34,
   "metadata": {},
   "outputs": [
    {
     "data": {
      "text/plain": [
       "<AxesSubplot:title={'center':'BOXPLOT Original'}>"
      ]
     },
     "execution_count": 34,
     "metadata": {},
     "output_type": "execute_result"
    },
    {
     "data": {
      "image/png": "[encoded data removed]",
      "text/plain": [
       "<Figure size 1080x360 with 1 Axes>"
      ]
     },
     "metadata": {
      "needs_background": "light"
     },
     "output_type": "display_data"
    }
   ],
   "source": [
    "plt.figure(figsize=[15,5])\n",
    "plt.title(\"BOXPLOT Original\")\n",
    "dfo_limpo.boxplot('idade')"
   ]
  },
  {
   "cell_type": "code",
   "execution_count": 35,
   "metadata": {},
   "outputs": [],
   "source": [
    "def detecta_outlier(x, limite = 1.5):\n",
    "    iqr = np.percentile(x, 75) - np.percentile(x, 25)\n",
    "    limite_inf = np.maximum(np.percentile(x, 25) - limite * iqr, np.min(x))\n",
    "    limite_sup = np.minimum(np.percentile(x, 75) + limite * iqr, np.max(x))\n",
    "    return np.where((x < limite_inf) | (x > limite_sup), 1, 0)"
   ]
  },
  {
   "cell_type": "code",
   "execution_count": 36,
   "metadata": {},
   "outputs": [
    {
     "data": {
      "text/html": [
       "<div>\n",
       "<style scoped>\n",
       "    .dataframe tbody tr th:only-of-type {\n",
       "        vertical-align: middle;\n",
       "    }\n",
       "\n",
       "    .dataframe tbody tr th {\n",
       "        vertical-align: top;\n",
       "    }\n",
       "\n",
       "    .dataframe thead th {\n",
       "        text-align: right;\n",
       "    }\n",
       "</style>\n",
       "<table border=\"1\" class=\"dataframe\">\n",
       "  <thead>\n",
       "    <tr style=\"text-align: right;\">\n",
       "      <th></th>\n",
       "      <th>idade</th>\n",
       "      <th>tempo_educacao</th>\n",
       "      <th>estado_civil</th>\n",
       "      <th>cor</th>\n",
       "      <th>sexo</th>\n",
       "      <th>horas_por_semana</th>\n",
       "      <th>salario_anual</th>\n",
       "      <th>outlier</th>\n",
       "    </tr>\n",
       "  </thead>\n",
       "  <tbody>\n",
       "    <tr>\n",
       "      <th>0</th>\n",
       "      <td>39.0</td>\n",
       "      <td>13</td>\n",
       "      <td>Never-married</td>\n",
       "      <td>White</td>\n",
       "      <td>Male</td>\n",
       "      <td>40</td>\n",
       "      <td>&lt;=50K</td>\n",
       "      <td>0</td>\n",
       "    </tr>\n",
       "    <tr>\n",
       "      <th>1</th>\n",
       "      <td>50.0</td>\n",
       "      <td>13</td>\n",
       "      <td>Married-civ-spouse</td>\n",
       "      <td>White</td>\n",
       "      <td>Male</td>\n",
       "      <td>13</td>\n",
       "      <td>&lt;=50K</td>\n",
       "      <td>0</td>\n",
       "    </tr>\n",
       "    <tr>\n",
       "      <th>2</th>\n",
       "      <td>38.0</td>\n",
       "      <td>9</td>\n",
       "      <td>Divorced</td>\n",
       "      <td>White</td>\n",
       "      <td>Male</td>\n",
       "      <td>40</td>\n",
       "      <td>&lt;=50K</td>\n",
       "      <td>0</td>\n",
       "    </tr>\n",
       "    <tr>\n",
       "      <th>3</th>\n",
       "      <td>53.0</td>\n",
       "      <td>7</td>\n",
       "      <td>Married-civ-spouse</td>\n",
       "      <td>Black</td>\n",
       "      <td>Male</td>\n",
       "      <td>40</td>\n",
       "      <td>&lt;=50K</td>\n",
       "      <td>0</td>\n",
       "    </tr>\n",
       "    <tr>\n",
       "      <th>4</th>\n",
       "      <td>37.0</td>\n",
       "      <td>14</td>\n",
       "      <td>Married-civ-spouse</td>\n",
       "      <td>White</td>\n",
       "      <td>Female</td>\n",
       "      <td>40</td>\n",
       "      <td>&lt;=50K</td>\n",
       "      <td>0</td>\n",
       "    </tr>\n",
       "    <tr>\n",
       "      <th>...</th>\n",
       "      <td>...</td>\n",
       "      <td>...</td>\n",
       "      <td>...</td>\n",
       "      <td>...</td>\n",
       "      <td>...</td>\n",
       "      <td>...</td>\n",
       "      <td>...</td>\n",
       "      <td>...</td>\n",
       "    </tr>\n",
       "    <tr>\n",
       "      <th>29165</th>\n",
       "      <td>27.0</td>\n",
       "      <td>12</td>\n",
       "      <td>Married-civ-spouse</td>\n",
       "      <td>White</td>\n",
       "      <td>Female</td>\n",
       "      <td>38</td>\n",
       "      <td>&lt;=50K</td>\n",
       "      <td>0</td>\n",
       "    </tr>\n",
       "    <tr>\n",
       "      <th>29166</th>\n",
       "      <td>40.0</td>\n",
       "      <td>9</td>\n",
       "      <td>Married-civ-spouse</td>\n",
       "      <td>White</td>\n",
       "      <td>Male</td>\n",
       "      <td>40</td>\n",
       "      <td>&gt;50K</td>\n",
       "      <td>0</td>\n",
       "    </tr>\n",
       "    <tr>\n",
       "      <th>29167</th>\n",
       "      <td>58.0</td>\n",
       "      <td>9</td>\n",
       "      <td>Widowed</td>\n",
       "      <td>White</td>\n",
       "      <td>Female</td>\n",
       "      <td>40</td>\n",
       "      <td>&lt;=50K</td>\n",
       "      <td>0</td>\n",
       "    </tr>\n",
       "    <tr>\n",
       "      <th>29168</th>\n",
       "      <td>22.0</td>\n",
       "      <td>9</td>\n",
       "      <td>Never-married</td>\n",
       "      <td>White</td>\n",
       "      <td>Male</td>\n",
       "      <td>20</td>\n",
       "      <td>&lt;=50K</td>\n",
       "      <td>0</td>\n",
       "    </tr>\n",
       "    <tr>\n",
       "      <th>29169</th>\n",
       "      <td>52.0</td>\n",
       "      <td>9</td>\n",
       "      <td>Married-civ-spouse</td>\n",
       "      <td>White</td>\n",
       "      <td>Female</td>\n",
       "      <td>40</td>\n",
       "      <td>&gt;50K</td>\n",
       "      <td>0</td>\n",
       "    </tr>\n",
       "  </tbody>\n",
       "</table>\n",
       "<p>29170 rows × 8 columns</p>\n",
       "</div>"
      ],
      "text/plain": [
       "       idade  tempo_educacao        estado_civil    cor    sexo  \\\n",
       "0       39.0              13       Never-married  White    Male   \n",
       "1       50.0              13  Married-civ-spouse  White    Male   \n",
       "2       38.0               9            Divorced  White    Male   \n",
       "3       53.0               7  Married-civ-spouse  Black    Male   \n",
       "4       37.0              14  Married-civ-spouse  White  Female   \n",
       "...      ...             ...                 ...    ...     ...   \n",
       "29165   27.0              12  Married-civ-spouse  White  Female   \n",
       "29166   40.0               9  Married-civ-spouse  White    Male   \n",
       "29167   58.0               9             Widowed  White  Female   \n",
       "29168   22.0               9       Never-married  White    Male   \n",
       "29169   52.0               9  Married-civ-spouse  White  Female   \n",
       "\n",
       "       horas_por_semana salario_anual  outlier  \n",
       "0                    40         <=50K        0  \n",
       "1                    13         <=50K        0  \n",
       "2                    40         <=50K        0  \n",
       "3                    40         <=50K        0  \n",
       "4                    40         <=50K        0  \n",
       "...                 ...           ...      ...  \n",
       "29165                38         <=50K        0  \n",
       "29166                40          >50K        0  \n",
       "29167                40         <=50K        0  \n",
       "29168                20         <=50K        0  \n",
       "29169                40          >50K        0  \n",
       "\n",
       "[29170 rows x 8 columns]"
      ]
     },
     "execution_count": 36,
     "metadata": {},
     "output_type": "execute_result"
    }
   ],
   "source": [
    "dfo_limpo['outlier'] = detecta_outlier(dfo_limpo['idade'])\n",
    "dfo_limpo"
   ]
  },
  {
   "cell_type": "code",
   "execution_count": 37,
   "metadata": {},
   "outputs": [],
   "source": [
    "dfo_limpo_outlier = dfo_limpo.loc[(dfo_limpo.outlier == 0)]"
   ]
  },
  {
   "cell_type": "code",
   "execution_count": 38,
   "metadata": {},
   "outputs": [
    {
     "data": {
      "image/png": "[encoded data removed]",
      "text/plain": [
       "<Figure size 1080x360 with 1 Axes>"
      ]
     },
     "metadata": {
      "needs_background": "light"
     },
     "output_type": "display_data"
    }
   ],
   "source": [
    "plt.figure(figsize=[15,5])\n",
    "plt.title(\"BOXPLOT CORRIGIDO\")\n",
    "plt.boxplot(dfo_limpo_outlier.idade)\n",
    "plt.xlabel('\\nIdade')\n",
    "plt.show()"
   ]
  },
  {
   "cell_type": "code",
   "execution_count": 39,
   "metadata": {},
   "outputs": [
    {
     "data": {
      "text/plain": [
       "<AxesSubplot:title={'center':'SEM OUTLIERS'}>"
      ]
     },
     "execution_count": 39,
     "metadata": {},
     "output_type": "execute_result"
    },
    {
     "data": {
      "image/png": "[encoded data removed]",
      "text/plain": [
       "<Figure size 1080x360 with 2 Axes>"
      ]
     },
     "metadata": {
      "needs_background": "light"
     },
     "output_type": "display_data"
    }
   ],
   "source": [
    "fig, ax = plt.subplots(1,2, figsize=[15,5])\n",
    "ax[0].set_title(\"COM OUTLIERS\")\n",
    "df_limpo.boxplot('idade',ax=ax[0])\n",
    "ax[1].set_title(\"SEM OUTLIERS\")\n",
    "dfo_limpo_outlier.boxplot('idade', ax=ax[1])"
   ]
  },
  {
   "cell_type": "markdown",
   "metadata": {},
   "source": [
    "### *10 - CRIAR UMA FUNÇÃO*"
   ]
  },
  {
   "cell_type": "code",
   "execution_count": 40,
   "metadata": {},
   "outputs": [
    {
     "data": {
      "text/html": [
       "<div>\n",
       "<style scoped>\n",
       "    .dataframe tbody tr th:only-of-type {\n",
       "        vertical-align: middle;\n",
       "    }\n",
       "\n",
       "    .dataframe tbody tr th {\n",
       "        vertical-align: top;\n",
       "    }\n",
       "\n",
       "    .dataframe thead th {\n",
       "        text-align: right;\n",
       "    }\n",
       "</style>\n",
       "<table border=\"1\" class=\"dataframe\">\n",
       "  <thead>\n",
       "    <tr style=\"text-align: right;\">\n",
       "      <th></th>\n",
       "      <th>idade</th>\n",
       "      <th>tempo_educacao</th>\n",
       "      <th>estado_civil</th>\n",
       "      <th>cor</th>\n",
       "      <th>sexo</th>\n",
       "      <th>horas_por_semana</th>\n",
       "      <th>salario_anual</th>\n",
       "      <th>nome</th>\n",
       "      <th>dívida</th>\n",
       "    </tr>\n",
       "  </thead>\n",
       "  <tbody>\n",
       "    <tr>\n",
       "      <th>0</th>\n",
       "      <td>39.0</td>\n",
       "      <td>13</td>\n",
       "      <td>Never-married</td>\n",
       "      <td>White</td>\n",
       "      <td>Male</td>\n",
       "      <td>40</td>\n",
       "      <td>&lt;=50K</td>\n",
       "      <td>NaN</td>\n",
       "      <td>NaN</td>\n",
       "    </tr>\n",
       "    <tr>\n",
       "      <th>1</th>\n",
       "      <td>50.0</td>\n",
       "      <td>13</td>\n",
       "      <td>Married-civ-spouse</td>\n",
       "      <td>White</td>\n",
       "      <td>Male</td>\n",
       "      <td>13</td>\n",
       "      <td>&lt;=50K</td>\n",
       "      <td>NaN</td>\n",
       "      <td>NaN</td>\n",
       "    </tr>\n",
       "    <tr>\n",
       "      <th>2</th>\n",
       "      <td>38.0</td>\n",
       "      <td>9</td>\n",
       "      <td>Divorced</td>\n",
       "      <td>White</td>\n",
       "      <td>Male</td>\n",
       "      <td>40</td>\n",
       "      <td>&lt;=50K</td>\n",
       "      <td>NaN</td>\n",
       "      <td>NaN</td>\n",
       "    </tr>\n",
       "    <tr>\n",
       "      <th>3</th>\n",
       "      <td>53.0</td>\n",
       "      <td>7</td>\n",
       "      <td>Married-civ-spouse</td>\n",
       "      <td>Black</td>\n",
       "      <td>Male</td>\n",
       "      <td>40</td>\n",
       "      <td>&lt;=50K</td>\n",
       "      <td>NaN</td>\n",
       "      <td>NaN</td>\n",
       "    </tr>\n",
       "    <tr>\n",
       "      <th>4</th>\n",
       "      <td>37.0</td>\n",
       "      <td>14</td>\n",
       "      <td>Married-civ-spouse</td>\n",
       "      <td>White</td>\n",
       "      <td>Female</td>\n",
       "      <td>40</td>\n",
       "      <td>&lt;=50K</td>\n",
       "      <td>NaN</td>\n",
       "      <td>NaN</td>\n",
       "    </tr>\n",
       "    <tr>\n",
       "      <th>...</th>\n",
       "      <td>...</td>\n",
       "      <td>...</td>\n",
       "      <td>...</td>\n",
       "      <td>...</td>\n",
       "      <td>...</td>\n",
       "      <td>...</td>\n",
       "      <td>...</td>\n",
       "      <td>...</td>\n",
       "      <td>...</td>\n",
       "    </tr>\n",
       "    <tr>\n",
       "      <th>29165</th>\n",
       "      <td>27.0</td>\n",
       "      <td>12</td>\n",
       "      <td>Married-civ-spouse</td>\n",
       "      <td>White</td>\n",
       "      <td>Female</td>\n",
       "      <td>38</td>\n",
       "      <td>&lt;=50K</td>\n",
       "      <td>NaN</td>\n",
       "      <td>NaN</td>\n",
       "    </tr>\n",
       "    <tr>\n",
       "      <th>29166</th>\n",
       "      <td>40.0</td>\n",
       "      <td>9</td>\n",
       "      <td>Married-civ-spouse</td>\n",
       "      <td>White</td>\n",
       "      <td>Male</td>\n",
       "      <td>40</td>\n",
       "      <td>&gt;50K</td>\n",
       "      <td>NaN</td>\n",
       "      <td>NaN</td>\n",
       "    </tr>\n",
       "    <tr>\n",
       "      <th>29167</th>\n",
       "      <td>58.0</td>\n",
       "      <td>9</td>\n",
       "      <td>Widowed</td>\n",
       "      <td>White</td>\n",
       "      <td>Female</td>\n",
       "      <td>40</td>\n",
       "      <td>&lt;=50K</td>\n",
       "      <td>NaN</td>\n",
       "      <td>NaN</td>\n",
       "    </tr>\n",
       "    <tr>\n",
       "      <th>29168</th>\n",
       "      <td>22.0</td>\n",
       "      <td>9</td>\n",
       "      <td>Never-married</td>\n",
       "      <td>White</td>\n",
       "      <td>Male</td>\n",
       "      <td>20</td>\n",
       "      <td>&lt;=50K</td>\n",
       "      <td>NaN</td>\n",
       "      <td>NaN</td>\n",
       "    </tr>\n",
       "    <tr>\n",
       "      <th>29169</th>\n",
       "      <td>52.0</td>\n",
       "      <td>9</td>\n",
       "      <td>Married-civ-spouse</td>\n",
       "      <td>White</td>\n",
       "      <td>Female</td>\n",
       "      <td>40</td>\n",
       "      <td>&gt;50K</td>\n",
       "      <td>NaN</td>\n",
       "      <td>NaN</td>\n",
       "    </tr>\n",
       "  </tbody>\n",
       "</table>\n",
       "<p>29170 rows × 9 columns</p>\n",
       "</div>"
      ],
      "text/plain": [
       "       idade  tempo_educacao        estado_civil    cor    sexo  \\\n",
       "0       39.0              13       Never-married  White    Male   \n",
       "1       50.0              13  Married-civ-spouse  White    Male   \n",
       "2       38.0               9            Divorced  White    Male   \n",
       "3       53.0               7  Married-civ-spouse  Black    Male   \n",
       "4       37.0              14  Married-civ-spouse  White  Female   \n",
       "...      ...             ...                 ...    ...     ...   \n",
       "29165   27.0              12  Married-civ-spouse  White  Female   \n",
       "29166   40.0               9  Married-civ-spouse  White    Male   \n",
       "29167   58.0               9             Widowed  White  Female   \n",
       "29168   22.0               9       Never-married  White    Male   \n",
       "29169   52.0               9  Married-civ-spouse  White  Female   \n",
       "\n",
       "       horas_por_semana salario_anual  nome  dívida  \n",
       "0                    40         <=50K   NaN     NaN  \n",
       "1                    13         <=50K   NaN     NaN  \n",
       "2                    40         <=50K   NaN     NaN  \n",
       "3                    40         <=50K   NaN     NaN  \n",
       "4                    40         <=50K   NaN     NaN  \n",
       "...                 ...           ...   ...     ...  \n",
       "29165                38         <=50K   NaN     NaN  \n",
       "29166                40          >50K   NaN     NaN  \n",
       "29167                40         <=50K   NaN     NaN  \n",
       "29168                20         <=50K   NaN     NaN  \n",
       "29169                40          >50K   NaN     NaN  \n",
       "\n",
       "[29170 rows x 9 columns]"
      ]
     },
     "execution_count": 40,
     "metadata": {},
     "output_type": "execute_result"
    }
   ],
   "source": [
    "df_original = pd.read_csv(\"dataframe_exercicio_modulo_7.csv\")\n",
    "df_original"
   ]
  },
  {
   "cell_type": "code",
   "execution_count": 41,
   "metadata": {},
   "outputs": [
    {
     "data": {
      "text/plain": [
       "idade               float64\n",
       "tempo_educacao        int64\n",
       "estado_civil         object\n",
       "cor                  object\n",
       "sexo                 object\n",
       "horas_por_semana      int64\n",
       "salario_anual        object\n",
       "nome                float64\n",
       "dívida              float64\n",
       "dtype: object"
      ]
     },
     "execution_count": 41,
     "metadata": {},
     "output_type": "execute_result"
    }
   ],
   "source": [
    "df_original.dtypes"
   ]
  },
  {
   "cell_type": "code",
   "execution_count": 42,
   "metadata": {},
   "outputs": [],
   "source": [
    "def gustavo(df_original):\n",
    "    col_num = list(df_original.dtypes[df_original.dtypes == 'float64'].index.tolist())\n",
    "    col_categ = list(df_original.dtypes[df_original.dtypes == 'object'].index.tolist())\n",
    "\n",
    "    dff = pd.DataFrame(df_original.copy())\n",
    "    temp = (dff.isnull().sum()/dff.shape[0])>=0.8\n",
    "    variavel_80 = temp.loc[temp == True].index.tolist()\n",
    "    \n",
    "    for v in variavel_80:\n",
    "        dff = dff.drop(v,axis=1)\n",
    "    \n",
    "    col_num = list(set(col_num).intersection(set(dff.columns.tolist())))\n",
    "    col_categ = list(set(col_categ).intersection(set(dff.columns.tolist())))\n",
    "    \n",
    "    for v in col_num:\n",
    "        dff[v] = dff[v].fillna(dff[v].mean())\n",
    "    \n",
    "    for v in col_categ:\n",
    "        mode_v = dff[v].value_counts().idxmax()\n",
    "        dff[v] = dff[v].fillna(mode_v)\n",
    "    \n",
    "    X1 = dff.tempo_educacao.values\n",
    "    M = np.max(X1)\n",
    "    m = np.min(X1)\n",
    "    X_minmax = (X1 - m) / (M-m)\n",
    "    \n",
    "    X2 = dff.horas_por_semana.values\n",
    "    Md = np.mean(X2)\n",
    "    S = np.std(X2)\n",
    "    X_standard = (X2 - Md) / S\n",
    "\n",
    "    ohe1 = OneHotEncoder()\n",
    "    ohe2 = OneHotEncoder()\n",
    "    ohe3 = OneHotEncoder()\n",
    "        \n",
    "    dff_hot = dff.copy()\n",
    "       \n",
    "    variavel_ohe1 = dff_hot.estado_civil.values.reshape(-1,1)\n",
    "    variavel_ohe2 = dff_hot.cor.values.reshape(-1,1)\n",
    "    variavel_ohe3 = dff_hot.sexo.values.reshape(-1,1)\n",
    "\n",
    "    ohe1.fit(variavel_ohe1)\n",
    "    ohe2.fit(variavel_ohe2)\n",
    "    ohe3.fit(variavel_ohe3)\n",
    "        \n",
    "    ohe1.transform(variavel_ohe1)\n",
    "    ohe2.transform(variavel_ohe2)\n",
    "    ohe3.transform(variavel_ohe3)\n",
    "        \n",
    "    ohe1.transform(variavel_ohe1).toarray()\n",
    "    ohe2.transform(variavel_ohe2).toarray()\n",
    "    ohe3.transform(variavel_ohe3).toarray()\n",
    "        \n",
    "    dataframe_OHE1 = pd.DataFrame(ohe1.transform(variavel_ohe1).toarray(), \n",
    "                            columns = ohe1.categories_[0].tolist())\n",
    "    dataframe_OHE2 = pd.DataFrame(ohe2.transform(variavel_ohe2).toarray(), \n",
    "                            columns = ohe2.categories_[0].tolist())\n",
    "    dataframe_OHE3 = pd.DataFrame(ohe3.transform(variavel_ohe3).toarray(), \n",
    "                            columns = ohe3.categories_[0].tolist())\n",
    "        \n",
    "        \n",
    "    dff = pd.concat([dff, dataframe_OHE1,dataframe_OHE2,dataframe_OHE3], axis = 1)\n",
    "        \n",
    "    iqr = np.percentile(dff.idade, 75) - np.percentile(dff.idade, 25)\n",
    "    limite_inf = np.maximum(np.percentile(dff.idade, 25) - 1.5 * iqr, np.min(dff.idade))\n",
    "    limite_sup = np.minimum(np.percentile(dff.idade, 75) + 1.5 * iqr, np.max(dff.idade))\n",
    "        \n",
    "    L3 = np.where((dff.idade < limite_inf) | (dff.idade > limite_sup), 1, 0)\n",
    "        \n",
    "    dff['outlier'] = L3\n",
    "        \n",
    "    df_modificado = dff.loc[(dff.outlier == 0)]\n",
    "        \n",
    "    return df_modificado,X_minmax,X_standard\n"
   ]
  },
  {
   "cell_type": "code",
   "execution_count": 43,
   "metadata": {},
   "outputs": [],
   "source": [
    "df_modificado,min_max,standard = gustavo(df_original)"
   ]
  },
  {
   "cell_type": "code",
   "execution_count": 44,
   "metadata": {},
   "outputs": [
    {
     "data": {
      "image/png": "[encoded data removed]",
      "text/plain": [
       "<Figure size 1080x360 with 2 Axes>"
      ]
     },
     "metadata": {
      "needs_background": "light"
     },
     "output_type": "display_data"
    }
   ],
   "source": [
    "plt.figure(figsize=[15,5])\n",
    "plt.subplot(1,2,1)\n",
    "plt.title(\"BOXPLOT CORRIGIDO COM A FUNÇÃO GUSTAVO\")\n",
    "plt.boxplot(df_modificado.idade)\n",
    "plt.subplot(1,2,2)\n",
    "plt.title(\"BOXPLOT ORIGINAL\")\n",
    "df_original.boxplot('idade')\n",
    "plt.show()\n",
    "plt.show()"
   ]
  },
  {
   "cell_type": "code",
   "execution_count": 48,
   "metadata": {},
   "outputs": [
    {
     "data": {
      "image/png": "[encoded data removed]",
      "text/plain": [
       "<Figure size 1080x360 with 2 Axes>"
      ]
     },
     "metadata": {
      "needs_background": "light"
     },
     "output_type": "display_data"
    }
   ],
   "source": [
    "plt.figure(figsize=[15,5])\n",
    "plt.subplot(1,2,1)\n",
    "plt.title(\"VARIAVEL TEMPO EDUCACAO NORMALIZADA MINMAX\")\n",
    "plt.hist(min_max)\n",
    "plt.subplot(1,2,2)\n",
    "plt.title(\"VARIAVEL HORAS POR SEMANA NORMALIZADA STANDARD_SCALER\")\n",
    "plt.hist(standard)\n",
    "plt.show()"
   ]
  },
  {
   "cell_type": "code",
   "execution_count": null,
   "metadata": {},
   "outputs": [],
   "source": []
  }
 ],
 "metadata": {
  "kernelspec": {
   "display_name": "Python 3",
   "language": "python",
   "name": "python3"
  },
  "language_info": {
   "codemirror_mode": {
    "name": "ipython",
    "version": 3
   },
   "file_extension": ".py",
   "mimetype": "text/x-python",
   "name": "python",
   "nbconvert_exporter": "python",
   "pygments_lexer": "ipython3",
   "version": "3.8.8"
  }
 },
 "nbformat": 4,
 "nbformat_minor": 2
}
