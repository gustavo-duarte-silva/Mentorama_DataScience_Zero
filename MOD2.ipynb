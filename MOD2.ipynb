{
 "cells": [
  {
   "cell_type": "markdown",
   "id": "2a0a994c",
   "metadata": {},
   "source": [
    "**EXERCICIO 1:**"
   ]
  },
  {
   "cell_type": "code",
   "execution_count": 20,
   "id": "eb75321e",
   "metadata": {},
   "outputs": [],
   "source": [
    "var1 = \"HONDA\"\n",
    "var2 = \"RENAULT\"\n",
    "\n",
    "var3 = 16\n",
    "var4 = 78\n",
    "\n",
    "var1 = str(var1)\n",
    "var2 = str(var2)\n",
    "\n",
    "var3 = float(var3)\n",
    "var4 = float(var4)\n"
   ]
  },
  {
   "cell_type": "code",
   "execution_count": 21,
   "id": "a05f73c2",
   "metadata": {},
   "outputs": [
    {
     "data": {
      "text/plain": [
       "False"
      ]
     },
     "execution_count": 21,
     "metadata": {},
     "output_type": "execute_result"
    }
   ],
   "source": [
    "var1 == var2\n"
   ]
  },
  {
   "cell_type": "code",
   "execution_count": 34,
   "id": "97621aca",
   "metadata": {},
   "outputs": [
    {
     "name": "stdout",
     "output_type": "stream",
     "text": [
      "Resto da divisão de 16.0 / 78.0 é: 16.0\n",
      "Resto da divisão de 78.0 / 16.0 é: 14.0\n"
     ]
    }
   ],
   "source": [
    "print(\"Resto da divisão de\",var3,\"/\",var4,\"é:\",var3%var4)\n",
    "print(\"Resto da divisão de\",var4,\"/\",var3,\"é:\",var4%var3)"
   ]
  },
  {
   "cell_type": "markdown",
   "id": "df7c78b5",
   "metadata": {},
   "source": [
    "**EXERCICIO 2:**"
   ]
  },
  {
   "cell_type": "code",
   "execution_count": 65,
   "id": "b34352ea",
   "metadata": {},
   "outputs": [
    {
     "name": "stdout",
     "output_type": "stream",
     "text": [
      "['triangulo', 'quadrado', 'circulo', 'circulo', 'triangulo', 'quadrado', 'circulo', 'retangulo', 'quadrado']\n"
     ]
    },
    {
     "data": {
      "text/plain": [
       "list"
      ]
     },
     "execution_count": 65,
     "metadata": {},
     "output_type": "execute_result"
    }
   ],
   "source": [
    "lista = list([\"triangulo\",\"quadrado\",\"circulo\",\"circulo\",\"triangulo\",\"quadrado\",\"circulo\",\"retangulo\",\"quadrado\"])\n",
    "print(lista)\n",
    "type(lista)"
   ]
  },
  {
   "cell_type": "code",
   "execution_count": 66,
   "id": "4b444ae3",
   "metadata": {},
   "outputs": [
    {
     "name": "stdout",
     "output_type": "stream",
     "text": [
      "{'quadrado', 'retangulo', 'circulo', 'triangulo'}\n"
     ]
    },
    {
     "data": {
      "text/plain": [
       "set"
      ]
     },
     "execution_count": 66,
     "metadata": {},
     "output_type": "execute_result"
    }
   ],
   "source": [
    "lista = set(lista)\n",
    "print(lista)\n",
    "type(lista)"
   ]
  },
  {
   "cell_type": "markdown",
   "id": "8d947e07",
   "metadata": {},
   "source": [
    "**EXERCICIO 3:**"
   ]
  },
  {
   "cell_type": "code",
   "execution_count": 63,
   "id": "23a1925f",
   "metadata": {},
   "outputs": [],
   "source": [
    "consumidos = {\"gustavo\":[\"sorvete\",\"lasanha\",\"vinho\"],\"aline\":[\"banana\",\"açai\",\"peixe\"],\"ana dulce\":[\"leite\",\"mingau\"]}\n"
   ]
  },
  {
   "cell_type": "code",
   "execution_count": 64,
   "id": "57cf6c48",
   "metadata": {},
   "outputs": [
    {
     "name": "stdout",
     "output_type": "stream",
     "text": [
      "{'gustavo': ['sorvete', 'lasanha', 'vinho'], 'aline': ['banana', 'açai', 'peixe'], 'ana dulce': ['leite', 'mingau']}\n"
     ]
    }
   ],
   "source": [
    "print(consumidos)"
   ]
  },
  {
   "cell_type": "code",
   "execution_count": null,
   "id": "252bf2fb",
   "metadata": {},
   "outputs": [],
   "source": []
  }
 ],
 "metadata": {
  "kernelspec": {
   "display_name": "Python 3",
   "language": "python",
   "name": "python3"
  },
  "language_info": {
   "codemirror_mode": {
    "name": "ipython",
    "version": 3
   },
   "file_extension": ".py",
   "mimetype": "text/x-python",
   "name": "python",
   "nbconvert_exporter": "python",
   "pygments_lexer": "ipython3",
   "version": "3.8.8"
  }
 },
 "nbformat": 4,
 "nbformat_minor": 5
}
