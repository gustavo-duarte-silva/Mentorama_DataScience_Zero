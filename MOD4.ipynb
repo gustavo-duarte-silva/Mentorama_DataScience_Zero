{
 "cells": [
  {
   "cell_type": "markdown",
   "id": "b15d3077",
   "metadata": {},
   "source": [
    "**EXE 1**"
   ]
  },
  {
   "cell_type": "code",
   "execution_count": 2,
   "id": "2ea227ae",
   "metadata": {},
   "outputs": [
    {
     "name": "stdout",
     "output_type": "stream",
     "text": [
      "<sqlite3.Connection object at 0x00000230CB9253F0>\n"
     ]
    }
   ],
   "source": [
    "import sqlite3\n",
    "\n",
    "conn = sqlite3.connect(\"MODULO_4_GUSTAVO.db\")\n",
    "print(conn)"
   ]
  },
  {
   "cell_type": "code",
   "execution_count": 3,
   "id": "b2f5e437",
   "metadata": {},
   "outputs": [],
   "source": [
    "cursor = conn.cursor()"
   ]
  },
  {
   "cell_type": "code",
   "execution_count": 4,
   "id": "57946212",
   "metadata": {},
   "outputs": [
    {
     "ename": "OperationalError",
     "evalue": "table dados_cadastrais already exists",
     "output_type": "error",
     "traceback": [
      "\u001b[1;31m---------------------------------------------------------------------------\u001b[0m",
      "\u001b[1;31mOperationalError\u001b[0m                          Traceback (most recent call last)",
      "\u001b[1;32m<ipython-input-4-03f3c8afc60c>\u001b[0m in \u001b[0;36m<module>\u001b[1;34m\u001b[0m\n\u001b[1;32m----> 1\u001b[1;33m \u001b[0mcursor\u001b[0m\u001b[1;33m.\u001b[0m\u001b[0mexecute\u001b[0m\u001b[1;33m(\u001b[0m\u001b[1;34m\"CREATE TABLE dados_cadastrais (id integer, nome text, sobrenome text, data_nasci integer, cpf inteiro, endereco text)\"\u001b[0m\u001b[1;33m)\u001b[0m\u001b[1;33m;\u001b[0m\u001b[1;33m\u001b[0m\u001b[1;33m\u001b[0m\u001b[0m\n\u001b[0m\u001b[0;32m      2\u001b[0m \u001b[0mcursor\u001b[0m\u001b[1;33m.\u001b[0m\u001b[0mexecute\u001b[0m\u001b[1;33m(\u001b[0m\u001b[1;34m\"CREATE TABLE dados_profissionais (id integer, graduacao text, cargo text, salario float, tempo_casa inteiro)\"\u001b[0m\u001b[1;33m)\u001b[0m\u001b[1;33m;\u001b[0m\u001b[1;33m\u001b[0m\u001b[1;33m\u001b[0m\u001b[0m\n",
      "\u001b[1;31mOperationalError\u001b[0m: table dados_cadastrais already exists"
     ]
    }
   ],
   "source": [
    "cursor.execute(\"CREATE TABLE dados_cadastrais (id integer, nome text, sobrenome text, data_nasci integer, cpf inteiro, endereco text)\");\n",
    "cursor.execute(\"CREATE TABLE dados_profissionais (id integer, graduacao text, cargo text, salario float, tempo_casa inteiro)\");"
   ]
  },
  {
   "cell_type": "code",
   "execution_count": 5,
   "id": "28318e8a",
   "metadata": {},
   "outputs": [
    {
     "data": {
      "text/plain": [
       "<sqlite3.Cursor at 0x230cba0c960>"
      ]
     },
     "execution_count": 5,
     "metadata": {},
     "output_type": "execute_result"
    }
   ],
   "source": [
    "cursor.execute(\"INSERT INTO dados_cadastrais VALUES(1, 'maria', 'silva', 0, 11111211313, 'rua 1 - SP')\") \n",
    "cursor.execute(\"INSERT INTO dados_cadastrais VALUES(2, 'joao', 'silva', 0, 11111211889, 'rua 2 - SP')\")\n",
    "cursor.execute(\"INSERT INTO dados_cadastrais VALUES(3, 'pedro', 'pereira', 0, 11111211786, 'rua 8 - SP')\")\n",
    "cursor.execute(\"INSERT INTO dados_cadastrais VALUES(4, 'paulo', 'ribeiro', 0, 11111211123, 'rua 9 - SP')\")\n",
    "\n",
    "cursor.execute(\"INSERT INTO dados_profissionais VALUES(1, 'matematica', 'professor', 3500.89, 3)\")\n",
    "cursor.execute(\"INSERT INTO dados_profissionais VALUES(2, 'geografia', 'orientador', 2850.8, 1)\")\n",
    "cursor.execute(\"INSERT INTO dados_profissionais VALUES(3, 'historia', 'orientador', 3200.45, 1)\")\n",
    "cursor.execute(\"INSERT INTO dados_profissionais VALUES(4, 'fisica', 'professor', 1890.33, 2)\") "
   ]
  },
  {
   "cell_type": "code",
   "execution_count": 6,
   "id": "249c6d85",
   "metadata": {},
   "outputs": [
    {
     "data": {
      "text/plain": [
       "[(1, 'maria', 'silva', 0, 11111211313, 'rua 1 - SP'),\n",
       " (2, 'joao', 'silva', 0, 11111211889, 'rua 2 - SP'),\n",
       " (3, 'pedro', 'pereira', 0, 11111211786, 'rua 8 - SP'),\n",
       " (4, 'paulo', 'ribeiro', 0, 11111211123, 'rua 9 - SP')]"
      ]
     },
     "execution_count": 6,
     "metadata": {},
     "output_type": "execute_result"
    }
   ],
   "source": [
    "cursor.execute(\"SELECT * FROM dados_cadastrais\")\n",
    "cursor.fetchall()"
   ]
  },
  {
   "cell_type": "code",
   "execution_count": 7,
   "id": "066b4588",
   "metadata": {},
   "outputs": [
    {
     "data": {
      "text/plain": [
       "[(1, 'matematica', 'professor', 3500.89, 3),\n",
       " (2, 'geografia', 'orientador', 2850.8, 1),\n",
       " (3, 'historia', 'orientador', 3200.45, 1),\n",
       " (4, 'fisica', 'professor', 1890.33, 2)]"
      ]
     },
     "execution_count": 7,
     "metadata": {},
     "output_type": "execute_result"
    }
   ],
   "source": [
    "cursor.execute(\"SELECT * FROM dados_profissionais\")\n",
    "cursor.fetchall()"
   ]
  },
  {
   "cell_type": "markdown",
   "id": "885c9e7e",
   "metadata": {},
   "source": [
    "**EXE 2:**"
   ]
  },
  {
   "cell_type": "code",
   "execution_count": 9,
   "id": "b4393891",
   "metadata": {},
   "outputs": [
    {
     "data": {
      "text/plain": [
       "[(1, 'matematica', 'professor', 3500.89, 3),\n",
       " (4, 'fisica', 'professor', 1890.33, 2),\n",
       " (2, 'geografia', 'orientador', 2850.8, 1),\n",
       " (3, 'historia', 'orientador', 3200.45, 1)]"
      ]
     },
     "execution_count": 9,
     "metadata": {},
     "output_type": "execute_result"
    }
   ],
   "source": [
    "cursor.execute(\"SELECT * FROM dados_profissionais ORDER BY tempo_casa desc\")\n",
    "cursor.fetchall()"
   ]
  },
  {
   "cell_type": "markdown",
   "id": "0d78616d",
   "metadata": {},
   "source": [
    "**EXE 3:**"
   ]
  },
  {
   "cell_type": "code",
   "execution_count": 11,
   "id": "e912fe1b",
   "metadata": {},
   "outputs": [
    {
     "data": {
      "text/plain": [
       "[(4,)]"
      ]
     },
     "execution_count": 11,
     "metadata": {},
     "output_type": "execute_result"
    }
   ],
   "source": [
    "cursor.execute(\"SELECT COUNT(dp.nome) FROM dados_cadastrais as dp\")\n",
    "cursor.fetchall()"
   ]
  },
  {
   "cell_type": "markdown",
   "id": "d1506366",
   "metadata": {},
   "source": [
    "**EXE 4:**"
   ]
  },
  {
   "cell_type": "code",
   "execution_count": 14,
   "id": "dbe94310",
   "metadata": {},
   "outputs": [
    {
     "data": {
      "text/plain": [
       "[(2, 'joao', 'silva', 0, 11111211889, 'rua 2 - SP'),\n",
       " (1, 'maria', 'silva', 0, 11111211313, 'rua 1 - SP')]"
      ]
     },
     "execution_count": 14,
     "metadata": {},
     "output_type": "execute_result"
    }
   ],
   "source": [
    "cursor.execute(\"SELECT * FROM dados_cadastrais where sobrenome = 'silva' ORDER BY nome,sobrenome\")\n",
    "cursor.fetchall()"
   ]
  },
  {
   "cell_type": "markdown",
   "id": "ec5d7895",
   "metadata": {},
   "source": [
    "**EXE 5:**"
   ]
  },
  {
   "cell_type": "code",
   "execution_count": 18,
   "id": "dcd0575b",
   "metadata": {},
   "outputs": [
    {
     "data": {
      "text/plain": [
       "[('orientador', 6051.25), ('professor', 5391.219999999999)]"
      ]
     },
     "execution_count": 18,
     "metadata": {},
     "output_type": "execute_result"
    }
   ],
   "source": [
    "cursor.execute(\"SELECT cargo, SUM(salario) FROM dados_profissionais GROUP BY cargo\")\n",
    "cursor.fetchall()"
   ]
  },
  {
   "cell_type": "code",
   "execution_count": null,
   "id": "074469fe",
   "metadata": {},
   "outputs": [],
   "source": []
  }
 ],
 "metadata": {
  "kernelspec": {
   "display_name": "Python 3",
   "language": "python",
   "name": "python3"
  },
  "language_info": {
   "codemirror_mode": {
    "name": "ipython",
    "version": 3
   },
   "file_extension": ".py",
   "mimetype": "text/x-python",
   "name": "python",
   "nbconvert_exporter": "python",
   "pygments_lexer": "ipython3",
   "version": "3.8.8"
  }
 },
 "nbformat": 4,
 "nbformat_minor": 5
}
